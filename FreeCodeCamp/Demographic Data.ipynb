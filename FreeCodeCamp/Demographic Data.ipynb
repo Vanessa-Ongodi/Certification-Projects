{
 "cells": [
  {
   "cell_type": "markdown",
   "id": "b4126df6",
   "metadata": {},
   "source": [
    "## Demographic Data Analyzer from 1994 Census Data\n",
    "\n",
    "The data gotten from the 1994 Census were analyzed to answer the questions given in the project assignment."
   ]
  },
  {
   "cell_type": "code",
   "execution_count": 3,
   "id": "a1a16219",
   "metadata": {},
   "outputs": [],
   "source": [
    "import numpy as np\n",
    "import pandas as pd\n",
    "import matplotlib.pyplot as plt\n",
    "\n",
    "%matplotlib inline"
   ]
  },
  {
   "cell_type": "code",
   "execution_count": 4,
   "id": "abad9356",
   "metadata": {
    "scrolled": true
   },
   "outputs": [],
   "source": [
    "# Read data from file\n",
    "df = pd.read_csv('adult.data.csv')"
   ]
  },
  {
   "cell_type": "code",
   "execution_count": 6,
   "id": "143f3b34",
   "metadata": {},
   "outputs": [
    {
     "data": {
      "text/plain": [
       "White                 27816\n",
       "Black                  3124\n",
       "Asian-Pac-Islander     1039\n",
       "Amer-Indian-Eskimo      311\n",
       "Other                   271\n",
       "Name: race, dtype: int64"
      ]
     },
     "execution_count": 6,
     "metadata": {},
     "output_type": "execute_result"
    }
   ],
   "source": [
    "# 1. How many of each race are represented in this dataset? This should be a Pandas series with race names as the index labels.\n",
    "race_count = df['race'].value_counts()\n",
    "race_count"
   ]
  },
  {
   "cell_type": "code",
   "execution_count": 8,
   "id": "d6955c56",
   "metadata": {},
   "outputs": [
    {
     "data": {
      "text/plain": [
       "39.43354749885268"
      ]
     },
     "execution_count": 8,
     "metadata": {},
     "output_type": "execute_result"
    }
   ],
   "source": [
    " # 2. What is the average age of men?\n",
    "average_age_men =df[df[\"sex\"] == \"Male\"][\"age\"].mean()\n",
    "average_age_men"
   ]
  },
  {
   "cell_type": "code",
   "execution_count": 9,
   "id": "d62b1453",
   "metadata": {},
   "outputs": [
    {
     "data": {
      "text/plain": [
       "16.4"
      ]
     },
     "execution_count": 9,
     "metadata": {},
     "output_type": "execute_result"
    }
   ],
   "source": [
    "# 3. What is the percentage of people who have a Bachelor's degree?\n",
    "num_bachelors = len(df[df[\"education\"] == \"Bachelors\"])\n",
    "total_num = len(df)\n",
    "percentage_bachelors = round(num_bachelors / total_num * 100, 1)\n",
    "percentage_bachelors"
   ]
  },
  {
   "cell_type": "code",
   "execution_count": 11,
   "id": "a7d928ab",
   "metadata": {},
   "outputs": [
    {
     "name": "stdout",
     "output_type": "stream",
     "text": [
      "46.5\n",
      "17.4\n"
     ]
    }
   ],
   "source": [
    "# 4. What percentage of people with advanced education (`Bachelors`, `Masters`, or `Doctorate`) make more than 50K?\n",
    "# 5. What percentage of people without advanced education make more than 50K?\n",
    "\n",
    "# with and without `Bachelors`, `Masters`, or `Doctorate`\n",
    "higher_education = df[df[\"education\"].isin([\"Bachelors\", \"Masters\", \"Doctorate\"])]\n",
    "lower_education = df[~df[\"education\"].isin([\"Bachelors\", \"Masters\", \"Doctorate\"])]\n",
    "\n",
    "#percentage with salary >50K\n",
    "non_percentage_higher = len(higher_education[higher_education.salary == \">50K\"])\n",
    "higher_education_rich = round(non_percentage_higher/len(higher_education) * 100, 1)\n",
    "\n",
    "non_percentage_lower =len(lower_education[lower_education.salary == \">50K\"])\n",
    "lower_education_rich = round(non_percentage_lower / len(lower_education) * 100, 1)\n",
    "\n",
    "print(higher_education_rich)\n",
    "print(lower_education_rich)"
   ]
  },
  {
   "cell_type": "code",
   "execution_count": 12,
   "id": "343f743c",
   "metadata": {},
   "outputs": [
    {
     "data": {
      "text/plain": [
       "1"
      ]
     },
     "execution_count": 12,
     "metadata": {},
     "output_type": "execute_result"
    }
   ],
   "source": [
    "# 6. What is the minimum number of hours a person works per week (hours-per-week feature)?\n",
    "min_work_hours = df[\"hours-per-week\"].min()\n",
    "min_work_hours"
   ]
  },
  {
   "cell_type": "code",
   "execution_count": 13,
   "id": "03b4f5aa",
   "metadata": {},
   "outputs": [
    {
     "data": {
      "text/plain": [
       "10.0"
      ]
     },
     "execution_count": 13,
     "metadata": {},
     "output_type": "execute_result"
    }
   ],
   "source": [
    "# 7. What percentage of the people who work the minimum number of hours per week have a salary of >50K?\n",
    "num_min_workers = df[df[\"hours-per-week\"] == min_work_hours]\n",
    "\n",
    "rich_percentage = round(len(num_min_workers[num_min_workers.salary == \">50K\"]) / len(num_min_workers) * 100, 1)\n",
    "rich_percentage"
   ]
  },
  {
   "cell_type": "code",
   "execution_count": 14,
   "id": "b60e9f4d",
   "metadata": {},
   "outputs": [
    {
     "data": {
      "text/plain": [
       "41.9"
      ]
     },
     "execution_count": 14,
     "metadata": {},
     "output_type": "execute_result"
    }
   ],
   "source": [
    "# 8. What country has the highest percentage of people that earn >50K?\n",
    "country_count = df['native-country'].value_counts()\n",
    "country_rich_count = df[df['salary'] == '>50K']['native-country'].value_counts()\n",
    "highest_earning_country = (country_rich_count / country_count * 100).idxmax()\n",
    "highest_earning_country_percentage = round((country_rich_count / country_count * 100).max(), 1)\n",
    "\n",
    "highest_earning_country_percentage"
   ]
  },
  {
   "cell_type": "code",
   "execution_count": 15,
   "id": "82060097",
   "metadata": {},
   "outputs": [
    {
     "data": {
      "text/plain": [
       "'Prof-specialty'"
      ]
     },
     "execution_count": 15,
     "metadata": {},
     "output_type": "execute_result"
    }
   ],
   "source": [
    "# 9. Identify the most popular occupation for those who earn >50K in India.\n",
    "people_of_india = df[(df[\"native-country\"] == \"India\") & (df[\"salary\"] == \">50K\")]\n",
    "occupation_counts = people_of_india['occupation'].value_counts()\n",
    "top_IN_occupation = occupation_counts.idxmax()\n",
    "\n",
    "top_IN_occupation"
   ]
  }
 ],
 "metadata": {
  "kernelspec": {
   "display_name": "Python 3",
   "language": "python",
   "name": "python3"
  },
  "language_info": {
   "codemirror_mode": {
    "name": "ipython",
    "version": 3
   },
   "file_extension": ".py",
   "mimetype": "text/x-python",
   "name": "python",
   "nbconvert_exporter": "python",
   "pygments_lexer": "ipython3",
   "version": "3.8.8"
  }
 },
 "nbformat": 4,
 "nbformat_minor": 5
}
