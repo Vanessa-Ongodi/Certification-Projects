{
 "cells": [
  {
   "cell_type": "markdown",
   "id": "d34b2af0",
   "metadata": {},
   "source": [
    "## Creating a function using Numpy to output values\n",
    "\n",
    "The first **assignment** in the certification course was to create a function named `calculate()` in `mean_var_std.py`that uses Numpy to output the mean, variance, standard deviation, max, min, and sum of the rows, columns, and elements in a 3 x 3 matrix. The input of the function should be a list containing 9 digits. The function should convert the list into a 3 x 3 Numpy array, \n",
    "and then return a dictionary containing the mean, variance, standard deviation, max, min, and sum along both axes and for the flattened matrix.\n",
    "\n",
    "The returned dictionary should follow this format:\n",
    "\n",
    "{ 'mean': [axis1, axis2, flattened], \n",
    "'variance': [axis1, axis2, flattened], \n",
    "'standard deviation': [axis1, axis2, flattened], \n",
    "'max': [axis1, axis2, flattened], \n",
    "'min': [axis1, axis2, flattened], \n",
    "'sum': [axis1, axis2, flattened] }"
   ]
  },
  {
   "cell_type": "markdown",
   "id": "ce7b5699",
   "metadata": {},
   "source": [
    "### Solution:"
   ]
  },
  {
   "cell_type": "code",
   "execution_count": 39,
   "id": "9376d0b7",
   "metadata": {},
   "outputs": [],
   "source": [
    "#define function\n",
    "def calculate(a):\n",
    "    if len(a) != 9:\n",
    "        raise ValueError(\"List must contain nine numbers.\")\n",
    "\n",
    "    ab = np.array(a).reshape([3, 3])\n",
    "    c = {\n",
    "        \"mean\": [ab.mean(axis=0).tolist(), ab.mean(axis=1).tolist(), ab.mean()],\n",
    "        \"variance\": [ab.var(axis=0).tolist(), ab.var(axis=1).tolist(), ab.var()],\n",
    "        \"standard deviation\": [ab.std(axis=0).tolist(), ab.std(axis=1).tolist(), ab.std()],\n",
    "        \"max\": [ab.max(axis=0).tolist(), ab.max(axis=1).tolist(), ab.max()],\n",
    "        \"min\": [ab.min(axis=0).tolist(), ab.min(axis=1).tolist(), ab.min()],\n",
    "        \"sum\": [ab.sum(axis=0).tolist(), ab.sum(axis=1).tolist(), ab.sum()],\n",
    "    }\n",
    "    return c"
   ]
  },
  {
   "cell_type": "code",
   "execution_count": 40,
   "id": "446a9e22",
   "metadata": {},
   "outputs": [
    {
     "name": "stdout",
     "output_type": "stream",
     "text": [
      "{'mean': [[3.0, 4.0, 5.0], [1.0, 4.0, 7.0], 4.0], 'variance': [[6.0, 6.0, 6.0], [0.6666666666666666, 0.6666666666666666, 0.6666666666666666], 6.666666666666667], 'standard deviation': [[2.449489742783178, 2.449489742783178, 2.449489742783178], [0.816496580927726, 0.816496580927726, 0.816496580927726], 2.581988897471611], 'max': [[6, 7, 8], [2, 5, 8], 8], 'min': [[0, 1, 2], [0, 3, 6], 0], 'sum': [[9, 12, 15], [3, 12, 21], 36]}\n"
     ]
    }
   ],
   "source": [
    "print(calculate([i for i in range(0, 9)]))"
   ]
  }
 ],
 "metadata": {
  "kernelspec": {
   "display_name": "Python 3",
   "language": "python",
   "name": "python3"
  },
  "language_info": {
   "codemirror_mode": {
    "name": "ipython",
    "version": 3
   },
   "file_extension": ".py",
   "mimetype": "text/x-python",
   "name": "python",
   "nbconvert_exporter": "python",
   "pygments_lexer": "ipython3",
   "version": "3.8.8"
  }
 },
 "nbformat": 4,
 "nbformat_minor": 5
}
