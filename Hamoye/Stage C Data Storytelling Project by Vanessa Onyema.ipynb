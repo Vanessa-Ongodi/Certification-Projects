{
 "cells": [
  {
   "cell_type": "markdown",
   "id": "7c3f3506",
   "metadata": {},
   "source": [
    "# Comeback Coins \n",
    "\n",
    "A HDSC Winter 2022 Data storytelling project on first generation (bitcoin) and second generation (ethereum) cryptocurrency."
   ]
  },
  {
   "cell_type": "code",
   "execution_count": 1,
   "id": "ed859be6",
   "metadata": {},
   "outputs": [],
   "source": [
    "#import libraries\n",
    "import numpy as np\n",
    "import pandas as pd\n",
    "import seaborn as sns\n",
    "import matplotlib.pyplot as plt\n",
    "import requests\n",
    "import bs4 as bs\n",
    "from bs4 import BeautifulSoup\n",
    "import plotly.express as px\n",
    "import plotly.graph_objects as go\n",
    "from plotly.offline import iplot\n",
    "import plotly.io as pio\n",
    "pio.renderers.default = \"iframe\"\n",
    "%matplotlib inline"
   ]
  },
  {
   "cell_type": "markdown",
   "id": "0e15e320",
   "metadata": {},
   "source": [
    "<h2 id=\"DSCW\">Downloading And Scraping The Contents Of A Web Page</h2> \n"
   ]
  },
  {
   "cell_type": "markdown",
   "id": "36efb4c6",
   "metadata": {},
   "source": [
    "We Download the contents of the web page:\n"
   ]
  },
  {
   "cell_type": "code",
   "execution_count": 2,
   "id": "708470ed",
   "metadata": {},
   "outputs": [],
   "source": [
    "url = \"http://www.cryptowat.ch\""
   ]
  },
  {
   "cell_type": "markdown",
   "id": "18a10dc1",
   "metadata": {},
   "source": [
    "We use <code>get</code> to download the contents of the webpage in text format and store in a variable called <code>data</code>:\n"
   ]
  },
  {
   "cell_type": "code",
   "execution_count": 3,
   "id": "ba980182",
   "metadata": {},
   "outputs": [],
   "source": [
    "data  = requests.get(url).text "
   ]
  },
  {
   "cell_type": "markdown",
   "id": "bec4f495",
   "metadata": {},
   "source": [
    "We create a <code>BeautifulSoup</code> object using the <code>BeautifulSoup</code> constructor\n"
   ]
  },
  {
   "cell_type": "code",
   "execution_count": 4,
   "id": "84450e05",
   "metadata": {},
   "outputs": [],
   "source": [
    "soup = BeautifulSoup(data,\"html.parser\")  # create a soup object using the variable 'data'"
   ]
  },
  {
   "cell_type": "markdown",
   "id": "da5257f5",
   "metadata": {},
   "source": [
    "Scrape all links\n"
   ]
  },
  {
   "cell_type": "code",
   "execution_count": 5,
   "id": "e210bc41",
   "metadata": {},
   "outputs": [
    {
     "name": "stdout",
     "output_type": "stream",
     "text": [
      "/\n",
      "account/login\n",
      "/account/create\n",
      "/charts\n",
      "/assets\n",
      "/exchanges\n",
      "/desktop\n",
      "/mobile\n",
      "/pricing\n",
      "/markets\n",
      "/correlations\n",
      "/products/cryptocurrency-market-data-api\n",
      "/converter\n",
      "/account/create\n",
      "/account/create\n"
     ]
    }
   ],
   "source": [
    "for link in soup.find_all('a',href=True):  # in html anchor/link is represented by the tag <a>\n",
    "\n",
    "    print(link.get('href'))\n"
   ]
  },
  {
   "cell_type": "markdown",
   "id": "76552ca5",
   "metadata": {},
   "source": [
    "This helps us identify the contents of the webpage and how we can scrape the data. The data we need is from the cryptocurrency markets. We see there is an information on crypto market here so I will inspect the contents."
   ]
  },
  {
   "cell_type": "code",
   "execution_count": 6,
   "id": "a3098adf",
   "metadata": {},
   "outputs": [],
   "source": [
    "url=\"https://api.cryptowat.ch/markets\""
   ]
  },
  {
   "cell_type": "code",
   "execution_count": 7,
   "id": "ad35fd6a",
   "metadata": {},
   "outputs": [],
   "source": [
    "# get the contents of the webpage in text format and store in a variable called data\n",
    "data  = requests.get(url).text"
   ]
  },
  {
   "cell_type": "code",
   "execution_count": 8,
   "id": "42377273",
   "metadata": {},
   "outputs": [],
   "source": [
    "soup = BeautifulSoup(data,\"html.parser\")"
   ]
  },
  {
   "cell_type": "code",
   "execution_count": 9,
   "id": "69a6b6a5",
   "metadata": {},
   "outputs": [],
   "source": [
    "def formatter(string):\n",
    "    formatted = bytes(string, 'ascii').decode('unicode-escape')\n",
    "    # for Python 2\n",
    "    # formatted = string.decode('unicode-escape')\n",
    "    return formatted"
   ]
  },
  {
   "cell_type": "code",
   "execution_count": 10,
   "id": "900f6742",
   "metadata": {
    "scrolled": true
   },
   "outputs": [],
   "source": [
    "#print(soup.prettify(formatter = formatter))\n",
    "#This prints the web page elements from which I selected the data I need. Because these slows down the notebook, I won't run the output. "
   ]
  },
  {
   "cell_type": "markdown",
   "id": "f41a10a7",
   "metadata": {},
   "source": [
    "There are a lot of exchange market like bitfitnex, kraken, ftx-us, binance, etc. For this analysis, I will go with binance."
   ]
  },
  {
   "cell_type": "code",
   "execution_count": 11,
   "id": "4cd28e7f",
   "metadata": {},
   "outputs": [],
   "source": [
    "#scrape the data by creating a function\n",
    "def get_crypto_price(symbol, exchange='binance', after='2018-09-01'):\n",
    "    url = 'https://api.cryptowat.ch/markets/{exchange}/{symbol}usd/ohlc'.format(\n",
    "        symbol=symbol, exchange=exchange)\n",
    "    resp = requests.get(url, params={\n",
    "        'periods': '7200',\n",
    "        'after': str(int(pd.Timestamp(after).timestamp()))\n",
    "    })\n",
    "#     resp.raise_for_status()\n",
    "    data = resp.json()\n",
    "    df = pd.DataFrame(data['result']['7200'], columns=[\n",
    "        'CloseTime', 'OpenPrice', 'HighPrice', 'LowPrice', 'ClosePrice', 'Volume', 'NA'\n",
    "    ])\n",
    "    df['CloseTime'] = pd.to_datetime(df['CloseTime'], unit='s')\n",
    "    df.set_index('CloseTime', inplace=True)\n",
    "    return df"
   ]
  },
  {
   "cell_type": "code",
   "execution_count": 12,
   "id": "2771e9b1",
   "metadata": {},
   "outputs": [],
   "source": [
    "#pull data from crypto for btc and eth\n",
    "btc = get_crypto_price('btc', 'bitstamp')\n",
    "eth = get_crypto_price('eth', 'bitstamp')"
   ]
  },
  {
   "cell_type": "code",
   "execution_count": 13,
   "id": "9ae3113a",
   "metadata": {},
   "outputs": [],
   "source": [
    "#pull others for comparison\n",
    "ada = get_crypto_price('ada', 'bitstamp')\n",
    "xrp = get_crypto_price('xrp', 'bitstamp')\n",
    "usdt = get_crypto_price('usdt', 'bitstamp')\n",
    "matic = get_crypto_price('matic', 'bitstamp')\n",
    "usdc = get_crypto_price('usdc', 'bitstamp')\n",
    "shib = get_crypto_price('shib', 'bitstamp')\n",
    "ftm = get_crypto_price('ftm', 'bitstamp')\n",
    "uma = get_crypto_price('uma', 'bitstamp')"
   ]
  },
  {
   "cell_type": "markdown",
   "id": "2ba71d10",
   "metadata": {},
   "source": [
    "## Descriptive Statistics"
   ]
  },
  {
   "cell_type": "code",
   "execution_count": 14,
   "id": "541eec66",
   "metadata": {
    "scrolled": false
   },
   "outputs": [
    {
     "data": {
      "text/html": [
       "<div>\n",
       "<style scoped>\n",
       "    .dataframe tbody tr th:only-of-type {\n",
       "        vertical-align: middle;\n",
       "    }\n",
       "\n",
       "    .dataframe tbody tr th {\n",
       "        vertical-align: top;\n",
       "    }\n",
       "\n",
       "    .dataframe thead th {\n",
       "        text-align: right;\n",
       "    }\n",
       "</style>\n",
       "<table border=\"1\" class=\"dataframe\">\n",
       "  <thead>\n",
       "    <tr style=\"text-align: right;\">\n",
       "      <th></th>\n",
       "      <th>OpenPrice</th>\n",
       "      <th>HighPrice</th>\n",
       "      <th>LowPrice</th>\n",
       "      <th>ClosePrice</th>\n",
       "      <th>Volume</th>\n",
       "      <th>NA</th>\n",
       "    </tr>\n",
       "  </thead>\n",
       "  <tbody>\n",
       "    <tr>\n",
       "      <th>count</th>\n",
       "      <td>6000.000000</td>\n",
       "      <td>6000.000000</td>\n",
       "      <td>6000.000000</td>\n",
       "      <td>6000.000000</td>\n",
       "      <td>6000.000000</td>\n",
       "      <td>6.000000e+03</td>\n",
       "    </tr>\n",
       "    <tr>\n",
       "      <th>mean</th>\n",
       "      <td>42421.743632</td>\n",
       "      <td>42781.238988</td>\n",
       "      <td>42022.171238</td>\n",
       "      <td>42426.183942</td>\n",
       "      <td>428.522466</td>\n",
       "      <td>1.614867e+07</td>\n",
       "    </tr>\n",
       "    <tr>\n",
       "      <th>std</th>\n",
       "      <td>13237.649628</td>\n",
       "      <td>13312.496612</td>\n",
       "      <td>13149.930509</td>\n",
       "      <td>13231.973019</td>\n",
       "      <td>533.107220</td>\n",
       "      <td>1.887914e+07</td>\n",
       "    </tr>\n",
       "    <tr>\n",
       "      <th>min</th>\n",
       "      <td>12350.000000</td>\n",
       "      <td>12494.740000</td>\n",
       "      <td>12285.240000</td>\n",
       "      <td>12490.750000</td>\n",
       "      <td>1.170252</td>\n",
       "      <td>5.431636e+04</td>\n",
       "    </tr>\n",
       "    <tr>\n",
       "      <th>25%</th>\n",
       "      <td>34703.955000</td>\n",
       "      <td>35085.102500</td>\n",
       "      <td>34263.690000</td>\n",
       "      <td>34705.547500</td>\n",
       "      <td>134.072249</td>\n",
       "      <td>5.630957e+06</td>\n",
       "    </tr>\n",
       "    <tr>\n",
       "      <th>50%</th>\n",
       "      <td>43540.255000</td>\n",
       "      <td>43892.495000</td>\n",
       "      <td>43155.455000</td>\n",
       "      <td>43538.635000</td>\n",
       "      <td>266.148236</td>\n",
       "      <td>1.056030e+07</td>\n",
       "    </tr>\n",
       "    <tr>\n",
       "      <th>75%</th>\n",
       "      <td>51905.822500</td>\n",
       "      <td>52388.495000</td>\n",
       "      <td>51503.307500</td>\n",
       "      <td>51904.875000</td>\n",
       "      <td>517.570815</td>\n",
       "      <td>1.979890e+07</td>\n",
       "    </tr>\n",
       "    <tr>\n",
       "      <th>max</th>\n",
       "      <td>68635.050000</td>\n",
       "      <td>69000.000000</td>\n",
       "      <td>68357.790000</td>\n",
       "      <td>68627.010000</td>\n",
       "      <td>8477.638827</td>\n",
       "      <td>3.175776e+08</td>\n",
       "    </tr>\n",
       "  </tbody>\n",
       "</table>\n",
       "</div>"
      ],
      "text/plain": [
       "          OpenPrice     HighPrice      LowPrice    ClosePrice       Volume  \\\n",
       "count   6000.000000   6000.000000   6000.000000   6000.000000  6000.000000   \n",
       "mean   42421.743632  42781.238988  42022.171238  42426.183942   428.522466   \n",
       "std    13237.649628  13312.496612  13149.930509  13231.973019   533.107220   \n",
       "min    12350.000000  12494.740000  12285.240000  12490.750000     1.170252   \n",
       "25%    34703.955000  35085.102500  34263.690000  34705.547500   134.072249   \n",
       "50%    43540.255000  43892.495000  43155.455000  43538.635000   266.148236   \n",
       "75%    51905.822500  52388.495000  51503.307500  51904.875000   517.570815   \n",
       "max    68635.050000  69000.000000  68357.790000  68627.010000  8477.638827   \n",
       "\n",
       "                 NA  \n",
       "count  6.000000e+03  \n",
       "mean   1.614867e+07  \n",
       "std    1.887914e+07  \n",
       "min    5.431636e+04  \n",
       "25%    5.630957e+06  \n",
       "50%    1.056030e+07  \n",
       "75%    1.979890e+07  \n",
       "max    3.175776e+08  "
      ]
     },
     "execution_count": 14,
     "metadata": {},
     "output_type": "execute_result"
    }
   ],
   "source": [
    "btc.describe()"
   ]
  },
  {
   "cell_type": "code",
   "execution_count": 15,
   "id": "c1677772",
   "metadata": {
    "scrolled": false
   },
   "outputs": [
    {
     "data": {
      "text/html": [
       "<div>\n",
       "<style scoped>\n",
       "    .dataframe tbody tr th:only-of-type {\n",
       "        vertical-align: middle;\n",
       "    }\n",
       "\n",
       "    .dataframe tbody tr th {\n",
       "        vertical-align: top;\n",
       "    }\n",
       "\n",
       "    .dataframe thead th {\n",
       "        text-align: right;\n",
       "    }\n",
       "</style>\n",
       "<table border=\"1\" class=\"dataframe\">\n",
       "  <thead>\n",
       "    <tr style=\"text-align: right;\">\n",
       "      <th></th>\n",
       "      <th>OpenPrice</th>\n",
       "      <th>HighPrice</th>\n",
       "      <th>LowPrice</th>\n",
       "      <th>ClosePrice</th>\n",
       "      <th>Volume</th>\n",
       "      <th>NA</th>\n",
       "    </tr>\n",
       "  </thead>\n",
       "  <tbody>\n",
       "    <tr>\n",
       "      <th>count</th>\n",
       "      <td>6000.000000</td>\n",
       "      <td>6000.000000</td>\n",
       "      <td>6000.000000</td>\n",
       "      <td>6000.000000</td>\n",
       "      <td>6000.000000</td>\n",
       "      <td>6.000000e+03</td>\n",
       "    </tr>\n",
       "    <tr>\n",
       "      <th>mean</th>\n",
       "      <td>2474.340087</td>\n",
       "      <td>2499.447615</td>\n",
       "      <td>2446.062897</td>\n",
       "      <td>2474.557455</td>\n",
       "      <td>4270.395196</td>\n",
       "      <td>8.295698e+06</td>\n",
       "    </tr>\n",
       "    <tr>\n",
       "      <th>std</th>\n",
       "      <td>1193.824638</td>\n",
       "      <td>1202.558152</td>\n",
       "      <td>1183.913690</td>\n",
       "      <td>1193.506936</td>\n",
       "      <td>5692.682515</td>\n",
       "      <td>1.044954e+07</td>\n",
       "    </tr>\n",
       "    <tr>\n",
       "      <th>min</th>\n",
       "      <td>374.180000</td>\n",
       "      <td>376.260000</td>\n",
       "      <td>370.430000</td>\n",
       "      <td>374.100000</td>\n",
       "      <td>63.962337</td>\n",
       "      <td>8.473350e+04</td>\n",
       "    </tr>\n",
       "    <tr>\n",
       "      <th>25%</th>\n",
       "      <td>1683.092500</td>\n",
       "      <td>1700.007500</td>\n",
       "      <td>1663.432500</td>\n",
       "      <td>1684.305000</td>\n",
       "      <td>1106.093010</td>\n",
       "      <td>2.493121e+06</td>\n",
       "    </tr>\n",
       "    <tr>\n",
       "      <th>50%</th>\n",
       "      <td>2501.355000</td>\n",
       "      <td>2535.490000</td>\n",
       "      <td>2466.360000</td>\n",
       "      <td>2499.905000</td>\n",
       "      <td>2388.204699</td>\n",
       "      <td>4.931978e+06</td>\n",
       "    </tr>\n",
       "    <tr>\n",
       "      <th>75%</th>\n",
       "      <td>3365.000000</td>\n",
       "      <td>3405.682500</td>\n",
       "      <td>3326.895000</td>\n",
       "      <td>3364.760000</td>\n",
       "      <td>5005.490529</td>\n",
       "      <td>1.010107e+07</td>\n",
       "    </tr>\n",
       "    <tr>\n",
       "      <th>max</th>\n",
       "      <td>4849.970000</td>\n",
       "      <td>4868.790000</td>\n",
       "      <td>4826.000000</td>\n",
       "      <td>4849.060000</td>\n",
       "      <td>69943.152785</td>\n",
       "      <td>1.279678e+08</td>\n",
       "    </tr>\n",
       "  </tbody>\n",
       "</table>\n",
       "</div>"
      ],
      "text/plain": [
       "         OpenPrice    HighPrice     LowPrice   ClosePrice        Volume  \\\n",
       "count  6000.000000  6000.000000  6000.000000  6000.000000   6000.000000   \n",
       "mean   2474.340087  2499.447615  2446.062897  2474.557455   4270.395196   \n",
       "std    1193.824638  1202.558152  1183.913690  1193.506936   5692.682515   \n",
       "min     374.180000   376.260000   370.430000   374.100000     63.962337   \n",
       "25%    1683.092500  1700.007500  1663.432500  1684.305000   1106.093010   \n",
       "50%    2501.355000  2535.490000  2466.360000  2499.905000   2388.204699   \n",
       "75%    3365.000000  3405.682500  3326.895000  3364.760000   5005.490529   \n",
       "max    4849.970000  4868.790000  4826.000000  4849.060000  69943.152785   \n",
       "\n",
       "                 NA  \n",
       "count  6.000000e+03  \n",
       "mean   8.295698e+06  \n",
       "std    1.044954e+07  \n",
       "min    8.473350e+04  \n",
       "25%    2.493121e+06  \n",
       "50%    4.931978e+06  \n",
       "75%    1.010107e+07  \n",
       "max    1.279678e+08  "
      ]
     },
     "execution_count": 15,
     "metadata": {},
     "output_type": "execute_result"
    }
   ],
   "source": [
    "eth.describe()"
   ]
  },
  {
   "cell_type": "markdown",
   "id": "36a8ecbc",
   "metadata": {},
   "source": [
    "The dataset is between 1-6000 rows and 6 columns."
   ]
  },
  {
   "cell_type": "markdown",
   "id": "ec39866e",
   "metadata": {},
   "source": [
    "## Data Preprocessing and Cleaning"
   ]
  },
  {
   "cell_type": "code",
   "execution_count": 16,
   "id": "c1c8a4e2",
   "metadata": {},
   "outputs": [],
   "source": [
    "#export to csv to make the index a column\n",
    "btc.to_csv('btc.csv', index=True)\n",
    "eth.to_csv('eth.csv', index=True)\n",
    "ada.to_csv('ada.csv', index=True)\n",
    "xrp.to_csv('xrp.csv', index=True)\n",
    "usdt.to_csv('usdt.csv', index=True)\n",
    "matic.to_csv('matic.csv', index=True)\n",
    "usdc.to_csv('usdc.csv', index=True)\n",
    "shib.to_csv('shib.csv', index=True)\n",
    "ftm.to_csv('ftm.csv', index=True)\n",
    "uma.to_csv('uma.csv', index=True)"
   ]
  },
  {
   "cell_type": "code",
   "execution_count": 17,
   "id": "9d64b1e2",
   "metadata": {},
   "outputs": [],
   "source": [
    "#import\n",
    "df_btc = pd.read_csv('btc.csv')\n",
    "df_eth = pd.read_csv('eth.csv')\n",
    "df_ada = pd.read_csv('ada.csv')\n",
    "df_xrp = pd.read_csv('xrp.csv')\n",
    "df_usdt = pd.read_csv('usdt.csv')\n",
    "df_matic = pd.read_csv('matic.csv')\n",
    "df_usdc = pd.read_csv('usdc.csv')\n",
    "df_shib = pd.read_csv('shib.csv')\n",
    "df_ftm = pd.read_csv('ftm.csv')\n",
    "df_uma = pd.read_csv('uma.csv')"
   ]
  },
  {
   "cell_type": "code",
   "execution_count": 18,
   "id": "e1d2d853",
   "metadata": {},
   "outputs": [],
   "source": [
    "#assign new column\n",
    "df_btc['Symbol'] = \"BTC\"\n",
    "df_eth['Symbol'] = \"ETH\"\n",
    "df_ada['Symbol'] = \"ADA\"\n",
    "df_xrp['Symbol'] = \"XRP\"\n",
    "df_usdt['Symbol'] = \"USDT\"\n",
    "df_matic['Symbol'] = \"MATIC\"\n",
    "df_usdc['Symbol'] = \"USDC\"\n",
    "df_shib['Symbol'] = \"SHIB\"\n",
    "df_ftm['Symbol'] = \"FTM\"\n",
    "df_uma['Symbol'] = \"UMA\""
   ]
  },
  {
   "cell_type": "code",
   "execution_count": 19,
   "id": "99651ae4",
   "metadata": {},
   "outputs": [
    {
     "data": {
      "text/html": [
       "<div>\n",
       "<style scoped>\n",
       "    .dataframe tbody tr th:only-of-type {\n",
       "        vertical-align: middle;\n",
       "    }\n",
       "\n",
       "    .dataframe tbody tr th {\n",
       "        vertical-align: top;\n",
       "    }\n",
       "\n",
       "    .dataframe thead th {\n",
       "        text-align: right;\n",
       "    }\n",
       "</style>\n",
       "<table border=\"1\" class=\"dataframe\">\n",
       "  <thead>\n",
       "    <tr style=\"text-align: right;\">\n",
       "      <th></th>\n",
       "      <th>CloseTime</th>\n",
       "      <th>OpenPrice</th>\n",
       "      <th>HighPrice</th>\n",
       "      <th>LowPrice</th>\n",
       "      <th>ClosePrice</th>\n",
       "      <th>Volume</th>\n",
       "      <th>NA</th>\n",
       "      <th>Symbol</th>\n",
       "    </tr>\n",
       "  </thead>\n",
       "  <tbody>\n",
       "    <tr>\n",
       "      <th>0</th>\n",
       "      <td>2020-10-21 14:00:00</td>\n",
       "      <td>12350.00</td>\n",
       "      <td>12494.74</td>\n",
       "      <td>12285.24</td>\n",
       "      <td>12490.75</td>\n",
       "      <td>1859.009934</td>\n",
       "      <td>2.307140e+07</td>\n",
       "      <td>BTC</td>\n",
       "    </tr>\n",
       "    <tr>\n",
       "      <th>1</th>\n",
       "      <td>2020-10-21 16:00:00</td>\n",
       "      <td>12494.90</td>\n",
       "      <td>12865.00</td>\n",
       "      <td>12441.00</td>\n",
       "      <td>12748.06</td>\n",
       "      <td>4091.994796</td>\n",
       "      <td>5.196210e+07</td>\n",
       "      <td>BTC</td>\n",
       "    </tr>\n",
       "    <tr>\n",
       "      <th>2</th>\n",
       "      <td>2020-10-21 18:00:00</td>\n",
       "      <td>12758.29</td>\n",
       "      <td>12918.29</td>\n",
       "      <td>12728.37</td>\n",
       "      <td>12784.18</td>\n",
       "      <td>1476.877589</td>\n",
       "      <td>1.895998e+07</td>\n",
       "      <td>BTC</td>\n",
       "    </tr>\n",
       "    <tr>\n",
       "      <th>3</th>\n",
       "      <td>2020-10-21 20:00:00</td>\n",
       "      <td>12785.87</td>\n",
       "      <td>12815.00</td>\n",
       "      <td>12680.35</td>\n",
       "      <td>12702.20</td>\n",
       "      <td>1146.518601</td>\n",
       "      <td>1.462697e+07</td>\n",
       "      <td>BTC</td>\n",
       "    </tr>\n",
       "    <tr>\n",
       "      <th>4</th>\n",
       "      <td>2020-10-21 22:00:00</td>\n",
       "      <td>12702.20</td>\n",
       "      <td>13010.00</td>\n",
       "      <td>12700.00</td>\n",
       "      <td>12926.83</td>\n",
       "      <td>1524.816948</td>\n",
       "      <td>1.963351e+07</td>\n",
       "      <td>BTC</td>\n",
       "    </tr>\n",
       "  </tbody>\n",
       "</table>\n",
       "</div>"
      ],
      "text/plain": [
       "             CloseTime  OpenPrice  HighPrice  LowPrice  ClosePrice  \\\n",
       "0  2020-10-21 14:00:00   12350.00   12494.74  12285.24    12490.75   \n",
       "1  2020-10-21 16:00:00   12494.90   12865.00  12441.00    12748.06   \n",
       "2  2020-10-21 18:00:00   12758.29   12918.29  12728.37    12784.18   \n",
       "3  2020-10-21 20:00:00   12785.87   12815.00  12680.35    12702.20   \n",
       "4  2020-10-21 22:00:00   12702.20   13010.00  12700.00    12926.83   \n",
       "\n",
       "        Volume            NA Symbol  \n",
       "0  1859.009934  2.307140e+07    BTC  \n",
       "1  4091.994796  5.196210e+07    BTC  \n",
       "2  1476.877589  1.895998e+07    BTC  \n",
       "3  1146.518601  1.462697e+07    BTC  \n",
       "4  1524.816948  1.963351e+07    BTC  "
      ]
     },
     "execution_count": 19,
     "metadata": {},
     "output_type": "execute_result"
    }
   ],
   "source": [
    "#join the dataframe for data comparison later\n",
    "coins = pd.concat([df_btc, df_eth, df_ada, df_xrp, df_usdt, df_matic, df_usdc, df_shib, df_ftm, df_uma], axis=0)\n",
    "coins.head()"
   ]
  },
  {
   "cell_type": "code",
   "execution_count": 20,
   "id": "2b2894bb",
   "metadata": {},
   "outputs": [
    {
     "data": {
      "text/plain": [
       "<AxesSubplot:>"
      ]
     },
     "execution_count": 20,
     "metadata": {},
     "output_type": "execute_result"
    },
    {
     "data": {
      "image/png": "[encoded data removed]",
      "text/plain": [
       "<Figure size 432x288 with 1 Axes>"
      ]
     },
     "metadata": {
      "needs_background": "light"
     },
     "output_type": "display_data"
    }
   ],
   "source": [
    "#check null values\n",
    "sns.heatmap(coins.isnull(), yticklabels = False, cbar = False, cmap = 'viridis')"
   ]
  },
  {
   "cell_type": "markdown",
   "id": "3e361d8a",
   "metadata": {},
   "source": [
    "Here we see that there are no missing values in the data set"
   ]
  },
  {
   "cell_type": "code",
   "execution_count": 21,
   "id": "79c79716",
   "metadata": {},
   "outputs": [],
   "source": [
    "#convert the CloseTime column to datetime format\n",
    "coins['CloseTime']= pd.to_datetime(coins['CloseTime'])\n",
    " "
   ]
  },
  {
   "cell_type": "code",
   "execution_count": 22,
   "id": "7f68725d",
   "metadata": {},
   "outputs": [],
   "source": [
    "#extract year and month into separate column\n",
    "coins['Year'] = pd.to_datetime(coins['CloseTime']).dt.year\n",
    "coins['Month'] = pd.to_datetime(coins['CloseTime']).dt.month"
   ]
  },
  {
   "cell_type": "code",
   "execution_count": 23,
   "id": "57b1ab58",
   "metadata": {},
   "outputs": [
    {
     "name": "stdout",
     "output_type": "stream",
     "text": [
      "<class 'pandas.core.frame.DataFrame'>\n",
      "Int64Index: 34532 entries, 0 to 3344\n",
      "Data columns (total 10 columns):\n",
      " #   Column      Non-Null Count  Dtype         \n",
      "---  ------      --------------  -----         \n",
      " 0   CloseTime   34532 non-null  datetime64[ns]\n",
      " 1   OpenPrice   34532 non-null  float64       \n",
      " 2   HighPrice   34532 non-null  float64       \n",
      " 3   LowPrice    34532 non-null  float64       \n",
      " 4   ClosePrice  34532 non-null  float64       \n",
      " 5   Volume      34532 non-null  float64       \n",
      " 6   NA          34532 non-null  float64       \n",
      " 7   Symbol      34532 non-null  object        \n",
      " 8   Year        34532 non-null  int64         \n",
      " 9   Month       34532 non-null  int64         \n",
      "dtypes: datetime64[ns](1), float64(6), int64(2), object(1)\n",
      "memory usage: 2.9+ MB\n"
     ]
    }
   ],
   "source": [
    "coins.info()"
   ]
  },
  {
   "cell_type": "code",
   "execution_count": 24,
   "id": "921771b7",
   "metadata": {},
   "outputs": [
    {
     "data": {
      "text/html": [
       "<div>\n",
       "<style scoped>\n",
       "    .dataframe tbody tr th:only-of-type {\n",
       "        vertical-align: middle;\n",
       "    }\n",
       "\n",
       "    .dataframe tbody tr th {\n",
       "        vertical-align: top;\n",
       "    }\n",
       "\n",
       "    .dataframe thead th {\n",
       "        text-align: right;\n",
       "    }\n",
       "</style>\n",
       "<table border=\"1\" class=\"dataframe\">\n",
       "  <thead>\n",
       "    <tr style=\"text-align: right;\">\n",
       "      <th></th>\n",
       "      <th>CloseTime</th>\n",
       "      <th>OpenPrice</th>\n",
       "      <th>HighPrice</th>\n",
       "      <th>LowPrice</th>\n",
       "      <th>ClosePrice</th>\n",
       "      <th>Volume</th>\n",
       "      <th>NA</th>\n",
       "      <th>Symbol</th>\n",
       "      <th>Year</th>\n",
       "      <th>Month</th>\n",
       "    </tr>\n",
       "  </thead>\n",
       "  <tbody>\n",
       "    <tr>\n",
       "      <th>0</th>\n",
       "      <td>2020-10-21 14:00:00</td>\n",
       "      <td>12350.00</td>\n",
       "      <td>12494.74</td>\n",
       "      <td>12285.24</td>\n",
       "      <td>12490.75</td>\n",
       "      <td>1859.009934</td>\n",
       "      <td>2.307140e+07</td>\n",
       "      <td>BTC</td>\n",
       "      <td>2020</td>\n",
       "      <td>10</td>\n",
       "    </tr>\n",
       "    <tr>\n",
       "      <th>1</th>\n",
       "      <td>2020-10-21 16:00:00</td>\n",
       "      <td>12494.90</td>\n",
       "      <td>12865.00</td>\n",
       "      <td>12441.00</td>\n",
       "      <td>12748.06</td>\n",
       "      <td>4091.994796</td>\n",
       "      <td>5.196210e+07</td>\n",
       "      <td>BTC</td>\n",
       "      <td>2020</td>\n",
       "      <td>10</td>\n",
       "    </tr>\n",
       "    <tr>\n",
       "      <th>2</th>\n",
       "      <td>2020-10-21 18:00:00</td>\n",
       "      <td>12758.29</td>\n",
       "      <td>12918.29</td>\n",
       "      <td>12728.37</td>\n",
       "      <td>12784.18</td>\n",
       "      <td>1476.877589</td>\n",
       "      <td>1.895998e+07</td>\n",
       "      <td>BTC</td>\n",
       "      <td>2020</td>\n",
       "      <td>10</td>\n",
       "    </tr>\n",
       "    <tr>\n",
       "      <th>3</th>\n",
       "      <td>2020-10-21 20:00:00</td>\n",
       "      <td>12785.87</td>\n",
       "      <td>12815.00</td>\n",
       "      <td>12680.35</td>\n",
       "      <td>12702.20</td>\n",
       "      <td>1146.518601</td>\n",
       "      <td>1.462697e+07</td>\n",
       "      <td>BTC</td>\n",
       "      <td>2020</td>\n",
       "      <td>10</td>\n",
       "    </tr>\n",
       "    <tr>\n",
       "      <th>4</th>\n",
       "      <td>2020-10-21 22:00:00</td>\n",
       "      <td>12702.20</td>\n",
       "      <td>13010.00</td>\n",
       "      <td>12700.00</td>\n",
       "      <td>12926.83</td>\n",
       "      <td>1524.816948</td>\n",
       "      <td>1.963351e+07</td>\n",
       "      <td>BTC</td>\n",
       "      <td>2020</td>\n",
       "      <td>10</td>\n",
       "    </tr>\n",
       "  </tbody>\n",
       "</table>\n",
       "</div>"
      ],
      "text/plain": [
       "            CloseTime  OpenPrice  HighPrice  LowPrice  ClosePrice  \\\n",
       "0 2020-10-21 14:00:00   12350.00   12494.74  12285.24    12490.75   \n",
       "1 2020-10-21 16:00:00   12494.90   12865.00  12441.00    12748.06   \n",
       "2 2020-10-21 18:00:00   12758.29   12918.29  12728.37    12784.18   \n",
       "3 2020-10-21 20:00:00   12785.87   12815.00  12680.35    12702.20   \n",
       "4 2020-10-21 22:00:00   12702.20   13010.00  12700.00    12926.83   \n",
       "\n",
       "        Volume            NA Symbol  Year  Month  \n",
       "0  1859.009934  2.307140e+07    BTC  2020     10  \n",
       "1  4091.994796  5.196210e+07    BTC  2020     10  \n",
       "2  1476.877589  1.895998e+07    BTC  2020     10  \n",
       "3  1146.518601  1.462697e+07    BTC  2020     10  \n",
       "4  1524.816948  1.963351e+07    BTC  2020     10  "
      ]
     },
     "execution_count": 24,
     "metadata": {},
     "output_type": "execute_result"
    }
   ],
   "source": [
    "coins.head()"
   ]
  },
  {
   "cell_type": "markdown",
   "id": "7afcbc63",
   "metadata": {},
   "source": [
    "## EDA"
   ]
  },
  {
   "cell_type": "code",
   "execution_count": 25,
   "id": "5d0792d4",
   "metadata": {},
   "outputs": [],
   "source": [
    "import matplotlib.dates as mdates\n",
    "import matplotlib.ticker as mtick"
   ]
  },
  {
   "cell_type": "code",
   "execution_count": 26,
   "id": "213ff9e8",
   "metadata": {},
   "outputs": [
    {
     "data": {
      "image/png": "[encoded data removed]",
      "text/plain": [
       "<Figure size 576x432 with 1 Axes>"
      ]
     },
     "metadata": {},
     "output_type": "display_data"
    }
   ],
   "source": [
    "#use a barchart to view the coin performance\n",
    "#create a bar chart using Seaborn\n",
    "sns.set_style(\"whitegrid\")\n",
    "bar,ax = plt.subplots(figsize=(8,6))\n",
    "ax = sns.barplot(x='ClosePrice', y='Symbol', data=coins, ci=None, color='grey',orient='h')\n",
    "ax.set_title(\"Crypto Prices in USD\", fontsize=25)\n",
    "ax.set(xscale=\"log\")#set scale to view others\n",
    "ax.set_xlabel (\"Crypto\", fontsize=20)\n",
    "ax.set_ylabel (None, fontsize=20)\n",
    "ax.tick_params(axis='x', labelsize=15)\n",
    "ax.tick_params(axis='y', labelsize=15)\n",
    "plt.savefig(\"cryptoprice.svg\")\n"
   ]
  },
  {
   "cell_type": "code",
   "execution_count": 27,
   "id": "44098fd5",
   "metadata": {},
   "outputs": [
    {
     "data": {
      "text/html": [
       "<iframe\n",
       "    scrolling=\"no\"\n",
       "    width=\"420px\"\n",
       "    height=\"420\"\n",
       "    src=\"iframe_figures/figure_27.html\"\n",
       "    frameborder=\"0\"\n",
       "    allowfullscreen\n",
       "></iframe>\n"
      ]
     },
     "metadata": {},
     "output_type": "display_data"
    }
   ],
   "source": [
    "#check mean performance of all\n",
    "df=coins.groupby('Symbol').agg({'ClosePrice':np.mean,'OpenPrice':np.mean,'HighPrice':np.mean,'LowPrice':np.mean}).reset_index()\n",
    "fig = px.line(df, x='Symbol', y=['ClosePrice','HighPrice','LowPrice','OpenPrice'])\n",
    "fig.update_layout(autosize=False,\n",
    "    width=400,\n",
    "    height=400,template='plotly_dark',\n",
    "    yaxis_title='Price',\n",
    "    title='Mean OHLC Prices of crypto currencies',\n",
    "    hovermode=\"x\",\n",
    "    title_x=0.5\n",
    ")\n",
    "fig.update_yaxes( # the y-axis is in dollars\n",
    "    tickprefix=\"$\", showgrid=True\n",
    ")\n",
    "fig.show()"
   ]
  },
  {
   "cell_type": "markdown",
   "id": "16c93b1a",
   "metadata": {},
   "source": [
    "# Analyzing bitcoin prices for 2020"
   ]
  },
  {
   "cell_type": "code",
   "execution_count": 28,
   "id": "a3d6cfac",
   "metadata": {},
   "outputs": [
    {
     "data": {
      "text/html": [
       "<div>\n",
       "<style scoped>\n",
       "    .dataframe tbody tr th:only-of-type {\n",
       "        vertical-align: middle;\n",
       "    }\n",
       "\n",
       "    .dataframe tbody tr th {\n",
       "        vertical-align: top;\n",
       "    }\n",
       "\n",
       "    .dataframe thead th {\n",
       "        text-align: right;\n",
       "    }\n",
       "</style>\n",
       "<table border=\"1\" class=\"dataframe\">\n",
       "  <thead>\n",
       "    <tr style=\"text-align: right;\">\n",
       "      <th></th>\n",
       "      <th>CloseTime</th>\n",
       "      <th>OpenPrice</th>\n",
       "      <th>HighPrice</th>\n",
       "      <th>LowPrice</th>\n",
       "      <th>ClosePrice</th>\n",
       "      <th>Volume</th>\n",
       "      <th>NA</th>\n",
       "      <th>Symbol</th>\n",
       "      <th>Year</th>\n",
       "      <th>Month</th>\n",
       "    </tr>\n",
       "  </thead>\n",
       "  <tbody>\n",
       "    <tr>\n",
       "      <th>0</th>\n",
       "      <td>2020-10-21 14:00:00</td>\n",
       "      <td>12350.00</td>\n",
       "      <td>12494.74</td>\n",
       "      <td>12285.24</td>\n",
       "      <td>12490.75</td>\n",
       "      <td>1859.009934</td>\n",
       "      <td>2.307140e+07</td>\n",
       "      <td>BTC</td>\n",
       "      <td>2020</td>\n",
       "      <td>10</td>\n",
       "    </tr>\n",
       "    <tr>\n",
       "      <th>1</th>\n",
       "      <td>2020-10-21 16:00:00</td>\n",
       "      <td>12494.90</td>\n",
       "      <td>12865.00</td>\n",
       "      <td>12441.00</td>\n",
       "      <td>12748.06</td>\n",
       "      <td>4091.994796</td>\n",
       "      <td>5.196210e+07</td>\n",
       "      <td>BTC</td>\n",
       "      <td>2020</td>\n",
       "      <td>10</td>\n",
       "    </tr>\n",
       "    <tr>\n",
       "      <th>2</th>\n",
       "      <td>2020-10-21 18:00:00</td>\n",
       "      <td>12758.29</td>\n",
       "      <td>12918.29</td>\n",
       "      <td>12728.37</td>\n",
       "      <td>12784.18</td>\n",
       "      <td>1476.877589</td>\n",
       "      <td>1.895998e+07</td>\n",
       "      <td>BTC</td>\n",
       "      <td>2020</td>\n",
       "      <td>10</td>\n",
       "    </tr>\n",
       "    <tr>\n",
       "      <th>3</th>\n",
       "      <td>2020-10-21 20:00:00</td>\n",
       "      <td>12785.87</td>\n",
       "      <td>12815.00</td>\n",
       "      <td>12680.35</td>\n",
       "      <td>12702.20</td>\n",
       "      <td>1146.518601</td>\n",
       "      <td>1.462697e+07</td>\n",
       "      <td>BTC</td>\n",
       "      <td>2020</td>\n",
       "      <td>10</td>\n",
       "    </tr>\n",
       "    <tr>\n",
       "      <th>4</th>\n",
       "      <td>2020-10-21 22:00:00</td>\n",
       "      <td>12702.20</td>\n",
       "      <td>13010.00</td>\n",
       "      <td>12700.00</td>\n",
       "      <td>12926.83</td>\n",
       "      <td>1524.816948</td>\n",
       "      <td>1.963351e+07</td>\n",
       "      <td>BTC</td>\n",
       "      <td>2020</td>\n",
       "      <td>10</td>\n",
       "    </tr>\n",
       "  </tbody>\n",
       "</table>\n",
       "</div>"
      ],
      "text/plain": [
       "            CloseTime  OpenPrice  HighPrice  LowPrice  ClosePrice  \\\n",
       "0 2020-10-21 14:00:00   12350.00   12494.74  12285.24    12490.75   \n",
       "1 2020-10-21 16:00:00   12494.90   12865.00  12441.00    12748.06   \n",
       "2 2020-10-21 18:00:00   12758.29   12918.29  12728.37    12784.18   \n",
       "3 2020-10-21 20:00:00   12785.87   12815.00  12680.35    12702.20   \n",
       "4 2020-10-21 22:00:00   12702.20   13010.00  12700.00    12926.83   \n",
       "\n",
       "        Volume            NA Symbol  Year  Month  \n",
       "0  1859.009934  2.307140e+07    BTC  2020     10  \n",
       "1  4091.994796  5.196210e+07    BTC  2020     10  \n",
       "2  1476.877589  1.895998e+07    BTC  2020     10  \n",
       "3  1146.518601  1.462697e+07    BTC  2020     10  \n",
       "4  1524.816948  1.963351e+07    BTC  2020     10  "
      ]
     },
     "execution_count": 28,
     "metadata": {},
     "output_type": "execute_result"
    }
   ],
   "source": [
    "df_2020 = coins[coins.Year == 2020]\n",
    "df_2020_btc = df_2020[df_2020.Symbol == 'BTC']\n",
    "df_2020_btc.head()"
   ]
  },
  {
   "cell_type": "code",
   "execution_count": 29,
   "id": "a25e8116",
   "metadata": {},
   "outputs": [],
   "source": [
    "import plotly.graph_objects as go"
   ]
  },
  {
   "cell_type": "code",
   "execution_count": 30,
   "id": "8915ee45",
   "metadata": {},
   "outputs": [
    {
     "data": {
      "text/html": [
       "<iframe\n",
       "    scrolling=\"no\"\n",
       "    width=\"420px\"\n",
       "    height=\"420\"\n",
       "    src=\"iframe_figures/figure_30.html\"\n",
       "    frameborder=\"0\"\n",
       "    allowfullscreen\n",
       "></iframe>\n"
      ]
     },
     "metadata": {},
     "output_type": "display_data"
    }
   ],
   "source": [
    "#check growth for 2020\n",
    "fig = go.Figure(data=go.Ohlc(x=df_2020_btc['CloseTime'],\n",
    "                    open=df_2020_btc['OpenPrice'],\n",
    "                    high=df_2020_btc['HighPrice'],\n",
    "                    low=df_2020_btc['LowPrice'],\n",
    "                    close=df_2020_btc['ClosePrice']))\n",
    "\n",
    "fig.update_layout(autosize=False,\n",
    "    width=400,\n",
    "    height=400,template='plotly_dark',\n",
    "        title='Bitcoin performance in 2020',\n",
    "        xaxis_title=\"Date\",\n",
    "        yaxis_title='Price',title_x=0.5,\n",
    "        )\n",
    "fig.update_yaxes( # the y-axis is in dollars\n",
    "        tickprefix=\"$\", showgrid=False\n",
    "    )\n",
    "\n",
    "fig.update_xaxes(\n",
    "         showgrid=True\n",
    "    )\n"
   ]
  },
  {
   "cell_type": "markdown",
   "id": "b3ad73c5",
   "metadata": {},
   "source": [
    "Here we see an increase from less than 15,000 USD to about 30,000 USD from October to December 2020."
   ]
  },
  {
   "cell_type": "code",
   "execution_count": 31,
   "id": "50f88e49",
   "metadata": {},
   "outputs": [
    {
     "data": {
      "text/plain": [
       "18329"
      ]
     },
     "execution_count": 31,
     "metadata": {},
     "output_type": "execute_result"
    }
   ],
   "source": [
    "#mean price\n",
    "round(df_2020_btc['ClosePrice'].mean())"
   ]
  },
  {
   "cell_type": "code",
   "execution_count": 32,
   "id": "c1a36e5f",
   "metadata": {},
   "outputs": [
    {
     "data": {
      "text/plain": [
       "18250"
      ]
     },
     "execution_count": 32,
     "metadata": {},
     "output_type": "execute_result"
    }
   ],
   "source": [
    "#median price\n",
    "round(df_2020_btc['ClosePrice'].median())"
   ]
  },
  {
   "cell_type": "code",
   "execution_count": 33,
   "id": "2079a67b",
   "metadata": {},
   "outputs": [
    {
     "data": {
      "text/plain": [
       "12491"
      ]
     },
     "execution_count": 33,
     "metadata": {},
     "output_type": "execute_result"
    }
   ],
   "source": [
    "#lowest price\n",
    "round(df_2020_btc['ClosePrice'].min())"
   ]
  },
  {
   "cell_type": "code",
   "execution_count": 34,
   "id": "09b6a86d",
   "metadata": {},
   "outputs": [
    {
     "data": {
      "text/plain": [
       "29178"
      ]
     },
     "execution_count": 34,
     "metadata": {},
     "output_type": "execute_result"
    }
   ],
   "source": [
    "#highest price\n",
    "round(df_2020_btc['ClosePrice'].max())"
   ]
  },
  {
   "cell_type": "code",
   "execution_count": 35,
   "id": "ebbb0454",
   "metadata": {},
   "outputs": [],
   "source": [
    "#extract for october to calculate the growth rate from october to december\n",
    "df_2020_btc_oct = df_2020_btc[df_2020_btc.Month == 10]"
   ]
  },
  {
   "cell_type": "code",
   "execution_count": 36,
   "id": "39bcf185",
   "metadata": {
    "scrolled": true
   },
   "outputs": [
    {
     "data": {
      "text/plain": [
       "39.08"
      ]
     },
     "execution_count": 36,
     "metadata": {},
     "output_type": "execute_result"
    }
   ],
   "source": [
    "round(((df_2020_btc['ClosePrice'].median()-df_2020_btc_oct['ClosePrice'].median())/df_2020_btc_oct['ClosePrice'].median())*100,2)"
   ]
  },
  {
   "cell_type": "markdown",
   "id": "98a03757",
   "metadata": {},
   "source": [
    "From October 2020 to December 2020, Bitcoin had a mean price of USD 18,065, median price of USD 18,110, low price of USD 11,430, highest price of USD 29,178 and a growth rate of 38.91%. "
   ]
  },
  {
   "cell_type": "markdown",
   "id": "37728759",
   "metadata": {},
   "source": [
    "# Analysing Bitcoin Prices for 2021"
   ]
  },
  {
   "cell_type": "code",
   "execution_count": 37,
   "id": "8bf49bed",
   "metadata": {},
   "outputs": [
    {
     "data": {
      "text/html": [
       "<div>\n",
       "<style scoped>\n",
       "    .dataframe tbody tr th:only-of-type {\n",
       "        vertical-align: middle;\n",
       "    }\n",
       "\n",
       "    .dataframe tbody tr th {\n",
       "        vertical-align: top;\n",
       "    }\n",
       "\n",
       "    .dataframe thead th {\n",
       "        text-align: right;\n",
       "    }\n",
       "</style>\n",
       "<table border=\"1\" class=\"dataframe\">\n",
       "  <thead>\n",
       "    <tr style=\"text-align: right;\">\n",
       "      <th></th>\n",
       "      <th>CloseTime</th>\n",
       "      <th>OpenPrice</th>\n",
       "      <th>HighPrice</th>\n",
       "      <th>LowPrice</th>\n",
       "      <th>ClosePrice</th>\n",
       "      <th>Volume</th>\n",
       "      <th>NA</th>\n",
       "      <th>Symbol</th>\n",
       "      <th>Year</th>\n",
       "      <th>Month</th>\n",
       "    </tr>\n",
       "  </thead>\n",
       "  <tbody>\n",
       "    <tr>\n",
       "      <th>857</th>\n",
       "      <td>2021-01-01 00:00:00</td>\n",
       "      <td>28987.60</td>\n",
       "      <td>29191.60</td>\n",
       "      <td>28843.74</td>\n",
       "      <td>28992.79</td>\n",
       "      <td>721.075916</td>\n",
       "      <td>2.094796e+07</td>\n",
       "      <td>BTC</td>\n",
       "      <td>2021</td>\n",
       "      <td>1</td>\n",
       "    </tr>\n",
       "    <tr>\n",
       "      <th>858</th>\n",
       "      <td>2021-01-01 02:00:00</td>\n",
       "      <td>28999.63</td>\n",
       "      <td>29543.93</td>\n",
       "      <td>28774.64</td>\n",
       "      <td>29479.12</td>\n",
       "      <td>1046.562427</td>\n",
       "      <td>3.057629e+07</td>\n",
       "      <td>BTC</td>\n",
       "      <td>2021</td>\n",
       "      <td>1</td>\n",
       "    </tr>\n",
       "    <tr>\n",
       "      <th>859</th>\n",
       "      <td>2021-01-01 04:00:00</td>\n",
       "      <td>29484.39</td>\n",
       "      <td>29535.95</td>\n",
       "      <td>29189.34</td>\n",
       "      <td>29345.63</td>\n",
       "      <td>574.389204</td>\n",
       "      <td>1.685687e+07</td>\n",
       "      <td>BTC</td>\n",
       "      <td>2021</td>\n",
       "      <td>1</td>\n",
       "    </tr>\n",
       "    <tr>\n",
       "      <th>860</th>\n",
       "      <td>2021-01-01 06:00:00</td>\n",
       "      <td>29351.85</td>\n",
       "      <td>29458.27</td>\n",
       "      <td>29121.80</td>\n",
       "      <td>29242.10</td>\n",
       "      <td>618.999929</td>\n",
       "      <td>1.812801e+07</td>\n",
       "      <td>BTC</td>\n",
       "      <td>2021</td>\n",
       "      <td>1</td>\n",
       "    </tr>\n",
       "    <tr>\n",
       "      <th>861</th>\n",
       "      <td>2021-01-01 08:00:00</td>\n",
       "      <td>29242.10</td>\n",
       "      <td>29317.56</td>\n",
       "      <td>28896.66</td>\n",
       "      <td>29173.17</td>\n",
       "      <td>693.177517</td>\n",
       "      <td>2.021690e+07</td>\n",
       "      <td>BTC</td>\n",
       "      <td>2021</td>\n",
       "      <td>1</td>\n",
       "    </tr>\n",
       "  </tbody>\n",
       "</table>\n",
       "</div>"
      ],
      "text/plain": [
       "              CloseTime  OpenPrice  HighPrice  LowPrice  ClosePrice  \\\n",
       "857 2021-01-01 00:00:00   28987.60   29191.60  28843.74    28992.79   \n",
       "858 2021-01-01 02:00:00   28999.63   29543.93  28774.64    29479.12   \n",
       "859 2021-01-01 04:00:00   29484.39   29535.95  29189.34    29345.63   \n",
       "860 2021-01-01 06:00:00   29351.85   29458.27  29121.80    29242.10   \n",
       "861 2021-01-01 08:00:00   29242.10   29317.56  28896.66    29173.17   \n",
       "\n",
       "          Volume            NA Symbol  Year  Month  \n",
       "857   721.075916  2.094796e+07    BTC  2021      1  \n",
       "858  1046.562427  3.057629e+07    BTC  2021      1  \n",
       "859   574.389204  1.685687e+07    BTC  2021      1  \n",
       "860   618.999929  1.812801e+07    BTC  2021      1  \n",
       "861   693.177517  2.021690e+07    BTC  2021      1  "
      ]
     },
     "execution_count": 37,
     "metadata": {},
     "output_type": "execute_result"
    }
   ],
   "source": [
    "df_2021 = coins[coins.Year == 2021]\n",
    "df_2021_btc = df_2021[df_2021.Symbol == 'BTC']\n",
    "df_2021_btc.head()"
   ]
  },
  {
   "cell_type": "code",
   "execution_count": 38,
   "id": "d08b5ae2",
   "metadata": {},
   "outputs": [
    {
     "data": {
      "text/html": [
       "<iframe\n",
       "    scrolling=\"no\"\n",
       "    width=\"420px\"\n",
       "    height=\"420\"\n",
       "    src=\"iframe_figures/figure_38.html\"\n",
       "    frameborder=\"0\"\n",
       "    allowfullscreen\n",
       "></iframe>\n"
      ]
     },
     "metadata": {},
     "output_type": "display_data"
    }
   ],
   "source": [
    "#check growth for 2021\n",
    "fig = go.Figure(data=go.Ohlc(x=df_2021_btc['CloseTime'],\n",
    "                    open=df_2021_btc['OpenPrice'],\n",
    "                    high=df_2021_btc['HighPrice'],\n",
    "                    low=df_2021_btc['LowPrice'],\n",
    "                    close=df_2021_btc['ClosePrice']))\n",
    "\n",
    "fig.update_layout(autosize=False,\n",
    "    width=400,\n",
    "    height=400,template='plotly_dark',\n",
    "        title='Bitcoin performance in 2021',\n",
    "        xaxis_title=\"Date\",\n",
    "        yaxis_title='Price',title_x=0.5,\n",
    "        )\n",
    "fig.update_yaxes( # the y-axis is in dollars\n",
    "        tickprefix=\"$\", showgrid=False\n",
    "    )\n",
    "\n",
    "fig.update_xaxes(\n",
    "         showgrid=True\n",
    "    )\n"
   ]
  },
  {
   "cell_type": "markdown",
   "id": "6718f653",
   "metadata": {},
   "source": [
    "Here bitcoin price fluctuates between 30,000 USD to almost 70,000 USD. From January 2021 to April 2021, there was a steady climb to about 65,000 USD. From May 2021 to July 2021, there was a drop to 30,000 USD. From August 2021 to September 2021, it increased to 50,000 USD and increased to almost 70,000 USD from October to November 2021. It dropped down to 48,000 USD and ranges between 48,000 USD - 40,000 USD in December 2021."
   ]
  },
  {
   "cell_type": "code",
   "execution_count": 39,
   "id": "91638a92",
   "metadata": {},
   "outputs": [
    {
     "data": {
      "text/plain": [
       "47387"
      ]
     },
     "execution_count": 39,
     "metadata": {},
     "output_type": "execute_result"
    }
   ],
   "source": [
    "#mean price\n",
    "round(df_2021_btc['ClosePrice'].mean())"
   ]
  },
  {
   "cell_type": "code",
   "execution_count": 40,
   "id": "77064098",
   "metadata": {},
   "outputs": [
    {
     "data": {
      "text/plain": [
       "47943"
      ]
     },
     "execution_count": 40,
     "metadata": {},
     "output_type": "execute_result"
    }
   ],
   "source": [
    "#median price\n",
    "round(df_2021_btc['ClosePrice'].median())"
   ]
  },
  {
   "cell_type": "code",
   "execution_count": 41,
   "id": "4aa479b8",
   "metadata": {},
   "outputs": [
    {
     "data": {
      "text/plain": [
       "28993"
      ]
     },
     "execution_count": 41,
     "metadata": {},
     "output_type": "execute_result"
    }
   ],
   "source": [
    "#lowest price\n",
    "round(df_2021_btc['ClosePrice'].min())"
   ]
  },
  {
   "cell_type": "code",
   "execution_count": 42,
   "id": "a558bf61",
   "metadata": {},
   "outputs": [
    {
     "data": {
      "text/plain": [
       "68627"
      ]
     },
     "execution_count": 42,
     "metadata": {},
     "output_type": "execute_result"
    }
   ],
   "source": [
    "#highest price\n",
    "round(df_2021_btc['ClosePrice'].max())"
   ]
  },
  {
   "cell_type": "code",
   "execution_count": 43,
   "id": "b5e944d2",
   "metadata": {},
   "outputs": [],
   "source": [
    "#extract for january to calculate the growth rate from january to december\n",
    "df_2021_btc_jan = df_2021_btc[df_2021_btc.Month == 1]"
   ]
  },
  {
   "cell_type": "code",
   "execution_count": 44,
   "id": "0381d882",
   "metadata": {
    "scrolled": true
   },
   "outputs": [
    {
     "data": {
      "text/plain": [
       "40.03"
      ]
     },
     "execution_count": 44,
     "metadata": {},
     "output_type": "execute_result"
    }
   ],
   "source": [
    "round(((df_2021_btc['ClosePrice'].median()-df_2021_btc_jan['ClosePrice'].median())/df_2021_btc_jan['ClosePrice'].median())*100,2)"
   ]
  },
  {
   "cell_type": "markdown",
   "id": "f253a881",
   "metadata": {},
   "source": [
    "From January 2021 to December 2021, Bitcoin had a mean price of 47,387 USD, median price of 47,943 USD, low price of 28,993 USD, highest price of 68,627 USD and a growth rate of 40.03%. "
   ]
  },
  {
   "cell_type": "markdown",
   "id": "05d43d9b",
   "metadata": {},
   "source": [
    "# Analyzing bitcoin prices for 2022"
   ]
  },
  {
   "cell_type": "code",
   "execution_count": 45,
   "id": "35a8fd49",
   "metadata": {},
   "outputs": [
    {
     "data": {
      "text/html": [
       "<div>\n",
       "<style scoped>\n",
       "    .dataframe tbody tr th:only-of-type {\n",
       "        vertical-align: middle;\n",
       "    }\n",
       "\n",
       "    .dataframe tbody tr th {\n",
       "        vertical-align: top;\n",
       "    }\n",
       "\n",
       "    .dataframe thead th {\n",
       "        text-align: right;\n",
       "    }\n",
       "</style>\n",
       "<table border=\"1\" class=\"dataframe\">\n",
       "  <thead>\n",
       "    <tr style=\"text-align: right;\">\n",
       "      <th></th>\n",
       "      <th>CloseTime</th>\n",
       "      <th>OpenPrice</th>\n",
       "      <th>HighPrice</th>\n",
       "      <th>LowPrice</th>\n",
       "      <th>ClosePrice</th>\n",
       "      <th>Volume</th>\n",
       "      <th>NA</th>\n",
       "      <th>Symbol</th>\n",
       "      <th>Year</th>\n",
       "      <th>Month</th>\n",
       "    </tr>\n",
       "  </thead>\n",
       "  <tbody>\n",
       "    <tr>\n",
       "      <th>5237</th>\n",
       "      <td>2022-01-01 00:00:00</td>\n",
       "      <td>46342.34</td>\n",
       "      <td>46560.81</td>\n",
       "      <td>46140.00</td>\n",
       "      <td>46214.37</td>\n",
       "      <td>93.470255</td>\n",
       "      <td>4.334748e+06</td>\n",
       "      <td>BTC</td>\n",
       "      <td>2022</td>\n",
       "      <td>1</td>\n",
       "    </tr>\n",
       "    <tr>\n",
       "      <th>5238</th>\n",
       "      <td>2022-01-01 02:00:00</td>\n",
       "      <td>46230.00</td>\n",
       "      <td>46921.30</td>\n",
       "      <td>46199.90</td>\n",
       "      <td>46773.08</td>\n",
       "      <td>83.770212</td>\n",
       "      <td>3.906125e+06</td>\n",
       "      <td>BTC</td>\n",
       "      <td>2022</td>\n",
       "      <td>1</td>\n",
       "    </tr>\n",
       "    <tr>\n",
       "      <th>5239</th>\n",
       "      <td>2022-01-01 04:00:00</td>\n",
       "      <td>46768.85</td>\n",
       "      <td>46928.90</td>\n",
       "      <td>46719.22</td>\n",
       "      <td>46814.16</td>\n",
       "      <td>55.389505</td>\n",
       "      <td>2.593773e+06</td>\n",
       "      <td>BTC</td>\n",
       "      <td>2022</td>\n",
       "      <td>1</td>\n",
       "    </tr>\n",
       "    <tr>\n",
       "      <th>5240</th>\n",
       "      <td>2022-01-01 06:00:00</td>\n",
       "      <td>46814.16</td>\n",
       "      <td>47548.93</td>\n",
       "      <td>46562.27</td>\n",
       "      <td>47214.92</td>\n",
       "      <td>155.973089</td>\n",
       "      <td>7.321566e+06</td>\n",
       "      <td>BTC</td>\n",
       "      <td>2022</td>\n",
       "      <td>1</td>\n",
       "    </tr>\n",
       "    <tr>\n",
       "      <th>5241</th>\n",
       "      <td>2022-01-01 08:00:00</td>\n",
       "      <td>47224.84</td>\n",
       "      <td>47327.29</td>\n",
       "      <td>46901.24</td>\n",
       "      <td>47236.65</td>\n",
       "      <td>32.892448</td>\n",
       "      <td>1.548375e+06</td>\n",
       "      <td>BTC</td>\n",
       "      <td>2022</td>\n",
       "      <td>1</td>\n",
       "    </tr>\n",
       "  </tbody>\n",
       "</table>\n",
       "</div>"
      ],
      "text/plain": [
       "               CloseTime  OpenPrice  HighPrice  LowPrice  ClosePrice  \\\n",
       "5237 2022-01-01 00:00:00   46342.34   46560.81  46140.00    46214.37   \n",
       "5238 2022-01-01 02:00:00   46230.00   46921.30  46199.90    46773.08   \n",
       "5239 2022-01-01 04:00:00   46768.85   46928.90  46719.22    46814.16   \n",
       "5240 2022-01-01 06:00:00   46814.16   47548.93  46562.27    47214.92   \n",
       "5241 2022-01-01 08:00:00   47224.84   47327.29  46901.24    47236.65   \n",
       "\n",
       "          Volume            NA Symbol  Year  Month  \n",
       "5237   93.470255  4.334748e+06    BTC  2022      1  \n",
       "5238   83.770212  3.906125e+06    BTC  2022      1  \n",
       "5239   55.389505  2.593773e+06    BTC  2022      1  \n",
       "5240  155.973089  7.321566e+06    BTC  2022      1  \n",
       "5241   32.892448  1.548375e+06    BTC  2022      1  "
      ]
     },
     "execution_count": 45,
     "metadata": {},
     "output_type": "execute_result"
    }
   ],
   "source": [
    "df_2022 = coins[coins.Year == 2022]\n",
    "df_2022_btc = df_2022[df_2022.Symbol == 'BTC']\n",
    "df_2022_btc.head()"
   ]
  },
  {
   "cell_type": "code",
   "execution_count": 46,
   "id": "c657ce40",
   "metadata": {},
   "outputs": [
    {
     "data": {
      "text/html": [
       "<iframe\n",
       "    scrolling=\"no\"\n",
       "    width=\"420px\"\n",
       "    height=\"420\"\n",
       "    src=\"iframe_figures/figure_46.html\"\n",
       "    frameborder=\"0\"\n",
       "    allowfullscreen\n",
       "></iframe>\n"
      ]
     },
     "metadata": {},
     "output_type": "display_data"
    }
   ],
   "source": [
    "#check growth for 2021\n",
    "fig = go.Figure(data=go.Ohlc(x=df_2022_btc['CloseTime'],\n",
    "                    open=df_2022_btc['OpenPrice'],\n",
    "                    high=df_2022_btc['HighPrice'],\n",
    "                    low=df_2022_btc['LowPrice'],\n",
    "                    close=df_2022_btc['ClosePrice']))\n",
    "\n",
    "fig.update_layout(autosize=False,\n",
    "    width=400,\n",
    "    height=400,template='plotly_dark',\n",
    "        title='Bitcoin performance in 2022',\n",
    "        xaxis_title=\"Date\",\n",
    "        yaxis_title='Price',title_x=0.5,\n",
    "        )\n",
    "fig.update_yaxes( # the y-axis is in dollars\n",
    "        tickprefix=\"$\", showgrid=False\n",
    "    )\n",
    "\n",
    "fig.update_xaxes(\n",
    "         showgrid=True\n",
    "    )\n"
   ]
  },
  {
   "cell_type": "markdown",
   "id": "20e578ac",
   "metadata": {},
   "source": [
    "Here bitcoin price fluctuates between 45,000 USD to 35,000 USD from January 2022 to March 2022. There is either a steady decrease or a steady increase."
   ]
  },
  {
   "cell_type": "code",
   "execution_count": 47,
   "id": "a225b1ad",
   "metadata": {},
   "outputs": [
    {
     "data": {
      "text/plain": [
       "41011"
      ]
     },
     "execution_count": 47,
     "metadata": {},
     "output_type": "execute_result"
    }
   ],
   "source": [
    "#mean price\n",
    "round(df_2022_btc['ClosePrice'].mean())"
   ]
  },
  {
   "cell_type": "code",
   "execution_count": 48,
   "id": "93ce8bfa",
   "metadata": {},
   "outputs": [
    {
     "data": {
      "text/plain": [
       "41729"
      ]
     },
     "execution_count": 48,
     "metadata": {},
     "output_type": "execute_result"
    }
   ],
   "source": [
    "#median price\n",
    "round(df_2022_btc['ClosePrice'].median())"
   ]
  },
  {
   "cell_type": "code",
   "execution_count": 49,
   "id": "b52e7824",
   "metadata": {},
   "outputs": [
    {
     "data": {
      "text/plain": [
       "33321"
      ]
     },
     "execution_count": 49,
     "metadata": {},
     "output_type": "execute_result"
    }
   ],
   "source": [
    "#lowest price\n",
    "round(df_2022_btc['ClosePrice'].min())"
   ]
  },
  {
   "cell_type": "code",
   "execution_count": 50,
   "id": "4b9ce32a",
   "metadata": {},
   "outputs": [
    {
     "data": {
      "text/plain": [
       "47777"
      ]
     },
     "execution_count": 50,
     "metadata": {},
     "output_type": "execute_result"
    }
   ],
   "source": [
    "#highest price\n",
    "round(df_2022_btc['ClosePrice'].max())"
   ]
  },
  {
   "cell_type": "code",
   "execution_count": 51,
   "id": "c970a552",
   "metadata": {},
   "outputs": [],
   "source": [
    "#extract for january to calculate the growth rate from january to december\n",
    "df_2022_btc_jan = df_2022_btc[df_2022_btc.Month == 1]"
   ]
  },
  {
   "cell_type": "code",
   "execution_count": 52,
   "id": "9f619c15",
   "metadata": {
    "scrolled": true
   },
   "outputs": [
    {
     "data": {
      "text/plain": [
       "-0.47"
      ]
     },
     "execution_count": 52,
     "metadata": {},
     "output_type": "execute_result"
    }
   ],
   "source": [
    "round(((df_2022_btc['ClosePrice'].median()-df_2022_btc_jan['ClosePrice'].median())/df_2022_btc_jan['ClosePrice'].median())*100,2)"
   ]
  },
  {
   "cell_type": "markdown",
   "id": "096e110b",
   "metadata": {},
   "source": [
    "From January 2022 to present, Bitcoin has a mean price of 40,973 USD, median price of 41,729 USD, low price of 33,321 USD, highest price of 47,777 USD and a growth rate of -0.47%. "
   ]
  },
  {
   "cell_type": "markdown",
   "id": "82c164df",
   "metadata": {},
   "source": [
    "# Analyzing bitcoin prices from 2020 - present"
   ]
  },
  {
   "cell_type": "code",
   "execution_count": 53,
   "id": "8e2712c3",
   "metadata": {},
   "outputs": [
    {
     "data": {
      "text/html": [
       "<div>\n",
       "<style scoped>\n",
       "    .dataframe tbody tr th:only-of-type {\n",
       "        vertical-align: middle;\n",
       "    }\n",
       "\n",
       "    .dataframe tbody tr th {\n",
       "        vertical-align: top;\n",
       "    }\n",
       "\n",
       "    .dataframe thead th {\n",
       "        text-align: right;\n",
       "    }\n",
       "</style>\n",
       "<table border=\"1\" class=\"dataframe\">\n",
       "  <thead>\n",
       "    <tr style=\"text-align: right;\">\n",
       "      <th></th>\n",
       "      <th>CloseTime</th>\n",
       "      <th>OpenPrice</th>\n",
       "      <th>HighPrice</th>\n",
       "      <th>LowPrice</th>\n",
       "      <th>ClosePrice</th>\n",
       "      <th>Volume</th>\n",
       "      <th>NA</th>\n",
       "      <th>Symbol</th>\n",
       "      <th>Year</th>\n",
       "      <th>Month</th>\n",
       "    </tr>\n",
       "  </thead>\n",
       "  <tbody>\n",
       "    <tr>\n",
       "      <th>0</th>\n",
       "      <td>2020-10-21 14:00:00</td>\n",
       "      <td>12350.00</td>\n",
       "      <td>12494.74</td>\n",
       "      <td>12285.24</td>\n",
       "      <td>12490.75</td>\n",
       "      <td>1859.009934</td>\n",
       "      <td>2.307140e+07</td>\n",
       "      <td>BTC</td>\n",
       "      <td>2020</td>\n",
       "      <td>10</td>\n",
       "    </tr>\n",
       "    <tr>\n",
       "      <th>1</th>\n",
       "      <td>2020-10-21 16:00:00</td>\n",
       "      <td>12494.90</td>\n",
       "      <td>12865.00</td>\n",
       "      <td>12441.00</td>\n",
       "      <td>12748.06</td>\n",
       "      <td>4091.994796</td>\n",
       "      <td>5.196210e+07</td>\n",
       "      <td>BTC</td>\n",
       "      <td>2020</td>\n",
       "      <td>10</td>\n",
       "    </tr>\n",
       "    <tr>\n",
       "      <th>2</th>\n",
       "      <td>2020-10-21 18:00:00</td>\n",
       "      <td>12758.29</td>\n",
       "      <td>12918.29</td>\n",
       "      <td>12728.37</td>\n",
       "      <td>12784.18</td>\n",
       "      <td>1476.877589</td>\n",
       "      <td>1.895998e+07</td>\n",
       "      <td>BTC</td>\n",
       "      <td>2020</td>\n",
       "      <td>10</td>\n",
       "    </tr>\n",
       "    <tr>\n",
       "      <th>3</th>\n",
       "      <td>2020-10-21 20:00:00</td>\n",
       "      <td>12785.87</td>\n",
       "      <td>12815.00</td>\n",
       "      <td>12680.35</td>\n",
       "      <td>12702.20</td>\n",
       "      <td>1146.518601</td>\n",
       "      <td>1.462697e+07</td>\n",
       "      <td>BTC</td>\n",
       "      <td>2020</td>\n",
       "      <td>10</td>\n",
       "    </tr>\n",
       "    <tr>\n",
       "      <th>4</th>\n",
       "      <td>2020-10-21 22:00:00</td>\n",
       "      <td>12702.20</td>\n",
       "      <td>13010.00</td>\n",
       "      <td>12700.00</td>\n",
       "      <td>12926.83</td>\n",
       "      <td>1524.816948</td>\n",
       "      <td>1.963351e+07</td>\n",
       "      <td>BTC</td>\n",
       "      <td>2020</td>\n",
       "      <td>10</td>\n",
       "    </tr>\n",
       "  </tbody>\n",
       "</table>\n",
       "</div>"
      ],
      "text/plain": [
       "            CloseTime  OpenPrice  HighPrice  LowPrice  ClosePrice  \\\n",
       "0 2020-10-21 14:00:00   12350.00   12494.74  12285.24    12490.75   \n",
       "1 2020-10-21 16:00:00   12494.90   12865.00  12441.00    12748.06   \n",
       "2 2020-10-21 18:00:00   12758.29   12918.29  12728.37    12784.18   \n",
       "3 2020-10-21 20:00:00   12785.87   12815.00  12680.35    12702.20   \n",
       "4 2020-10-21 22:00:00   12702.20   13010.00  12700.00    12926.83   \n",
       "\n",
       "        Volume            NA Symbol  Year  Month  \n",
       "0  1859.009934  2.307140e+07    BTC  2020     10  \n",
       "1  4091.994796  5.196210e+07    BTC  2020     10  \n",
       "2  1476.877589  1.895998e+07    BTC  2020     10  \n",
       "3  1146.518601  1.462697e+07    BTC  2020     10  \n",
       "4  1524.816948  1.963351e+07    BTC  2020     10  "
      ]
     },
     "execution_count": 53,
     "metadata": {},
     "output_type": "execute_result"
    }
   ],
   "source": [
    "df_all_btc = coins[coins.Symbol == 'BTC']\n",
    "df_all_btc.head()"
   ]
  },
  {
   "cell_type": "code",
   "execution_count": 54,
   "id": "385cb7ce",
   "metadata": {},
   "outputs": [
    {
     "data": {
      "text/html": [
       "<iframe\n",
       "    scrolling=\"no\"\n",
       "    width=\"420px\"\n",
       "    height=\"420\"\n",
       "    src=\"iframe_figures/figure_54.html\"\n",
       "    frameborder=\"0\"\n",
       "    allowfullscreen\n",
       "></iframe>\n"
      ]
     },
     "metadata": {},
     "output_type": "display_data"
    }
   ],
   "source": [
    "#check growth\n",
    "fig = go.Figure(data=go.Ohlc(x=df_all_btc['CloseTime'],\n",
    "                    open=df_all_btc['OpenPrice'],\n",
    "                    high=df_all_btc['HighPrice'],\n",
    "                    low=df_all_btc['LowPrice'],\n",
    "                    close=df_all_btc['ClosePrice']))\n",
    "\n",
    "fig.update_layout(autosize=False,\n",
    "    width=400,\n",
    "    height=400,template='plotly_dark',\n",
    "        title='Bitcoin performance from 2020 - present',\n",
    "        xaxis_title=\"Date\",\n",
    "        yaxis_title='Price',title_x=0.5,\n",
    "        )\n",
    "fig.update_yaxes( # the y-axis is in dollars\n",
    "        tickprefix=\"$\", showgrid=False\n",
    "    )\n",
    "\n",
    "fig.update_xaxes(\n",
    "         showgrid=True\n",
    "    )"
   ]
  },
  {
   "cell_type": "markdown",
   "id": "e74be620",
   "metadata": {},
   "source": [
    "From October 2020 to present, Bitcoin prices ranged from 10,000 USD to up to 70,000 USD with a steady increase or steady decrease."
   ]
  },
  {
   "cell_type": "code",
   "execution_count": 55,
   "id": "e089f2d0",
   "metadata": {},
   "outputs": [
    {
     "data": {
      "text/plain": [
       "42426"
      ]
     },
     "execution_count": 55,
     "metadata": {},
     "output_type": "execute_result"
    }
   ],
   "source": [
    "#mean price\n",
    "round(df_all_btc['ClosePrice'].mean())"
   ]
  },
  {
   "cell_type": "code",
   "execution_count": 56,
   "id": "ae163dac",
   "metadata": {},
   "outputs": [
    {
     "data": {
      "text/plain": [
       "43539"
      ]
     },
     "execution_count": 56,
     "metadata": {},
     "output_type": "execute_result"
    }
   ],
   "source": [
    "#median price\n",
    "round(df_all_btc['ClosePrice'].median())"
   ]
  },
  {
   "cell_type": "code",
   "execution_count": 57,
   "id": "43de1fda",
   "metadata": {},
   "outputs": [
    {
     "data": {
      "text/plain": [
       "12491"
      ]
     },
     "execution_count": 57,
     "metadata": {},
     "output_type": "execute_result"
    }
   ],
   "source": [
    "#lowest price\n",
    "round(df_all_btc['ClosePrice'].min())"
   ]
  },
  {
   "cell_type": "code",
   "execution_count": 58,
   "id": "f85e9406",
   "metadata": {},
   "outputs": [
    {
     "data": {
      "text/plain": [
       "68627"
      ]
     },
     "execution_count": 58,
     "metadata": {},
     "output_type": "execute_result"
    }
   ],
   "source": [
    "#highest price\n",
    "round(df_all_btc['ClosePrice'].max())"
   ]
  },
  {
   "cell_type": "code",
   "execution_count": 59,
   "id": "eefb9c69",
   "metadata": {},
   "outputs": [],
   "source": [
    "#use extracted data for october to calculate the growth rate from October 2020 to present\n",
    "df_2020_btc = df_all_btc[df_all_btc.Year == 2020]"
   ]
  },
  {
   "cell_type": "code",
   "execution_count": 60,
   "id": "8b1c1796",
   "metadata": {
    "scrolled": true
   },
   "outputs": [
    {
     "data": {
      "text/plain": [
       "231.78"
      ]
     },
     "execution_count": 60,
     "metadata": {},
     "output_type": "execute_result"
    }
   ],
   "source": [
    "#use extracted data for october to calculate the growth rate from October 2020 to present\n",
    "round(((df_all_btc['ClosePrice'].median()-df_2020_btc_oct['ClosePrice'].median())/df_2020_btc_oct['ClosePrice'].median())*100,2)"
   ]
  },
  {
   "cell_type": "markdown",
   "id": "6c557d8a",
   "metadata": {},
   "source": [
    "From October 2020 to present, Bitcoin has a mean price of 42,246 USD, median price of 43,514 USD, low price of 11,430 USD, highest price of 68,627 USD and a growth rate of 233.76%. "
   ]
  },
  {
   "cell_type": "markdown",
   "id": "d1737f99",
   "metadata": {},
   "source": [
    "# Analyzing ethereum prices for 2020"
   ]
  },
  {
   "cell_type": "code",
   "execution_count": 61,
   "id": "bb34e403",
   "metadata": {},
   "outputs": [
    {
     "data": {
      "text/html": [
       "<div>\n",
       "<style scoped>\n",
       "    .dataframe tbody tr th:only-of-type {\n",
       "        vertical-align: middle;\n",
       "    }\n",
       "\n",
       "    .dataframe tbody tr th {\n",
       "        vertical-align: top;\n",
       "    }\n",
       "\n",
       "    .dataframe thead th {\n",
       "        text-align: right;\n",
       "    }\n",
       "</style>\n",
       "<table border=\"1\" class=\"dataframe\">\n",
       "  <thead>\n",
       "    <tr style=\"text-align: right;\">\n",
       "      <th></th>\n",
       "      <th>CloseTime</th>\n",
       "      <th>OpenPrice</th>\n",
       "      <th>HighPrice</th>\n",
       "      <th>LowPrice</th>\n",
       "      <th>ClosePrice</th>\n",
       "      <th>Volume</th>\n",
       "      <th>NA</th>\n",
       "      <th>Symbol</th>\n",
       "      <th>Year</th>\n",
       "      <th>Month</th>\n",
       "    </tr>\n",
       "  </thead>\n",
       "  <tbody>\n",
       "    <tr>\n",
       "      <th>0</th>\n",
       "      <td>2020-10-21 12:00:00</td>\n",
       "      <td>378.97</td>\n",
       "      <td>381.35</td>\n",
       "      <td>377.22</td>\n",
       "      <td>379.17</td>\n",
       "      <td>3866.649247</td>\n",
       "      <td>1.468172e+06</td>\n",
       "      <td>ETH</td>\n",
       "      <td>2020</td>\n",
       "      <td>10</td>\n",
       "    </tr>\n",
       "    <tr>\n",
       "      <th>1</th>\n",
       "      <td>2020-10-21 14:00:00</td>\n",
       "      <td>379.92</td>\n",
       "      <td>386.20</td>\n",
       "      <td>377.92</td>\n",
       "      <td>385.23</td>\n",
       "      <td>7967.643726</td>\n",
       "      <td>3.051902e+06</td>\n",
       "      <td>ETH</td>\n",
       "      <td>2020</td>\n",
       "      <td>10</td>\n",
       "    </tr>\n",
       "    <tr>\n",
       "      <th>2</th>\n",
       "      <td>2020-10-21 16:00:00</td>\n",
       "      <td>385.36</td>\n",
       "      <td>392.76</td>\n",
       "      <td>384.09</td>\n",
       "      <td>392.66</td>\n",
       "      <td>14082.805849</td>\n",
       "      <td>5.462723e+06</td>\n",
       "      <td>ETH</td>\n",
       "      <td>2020</td>\n",
       "      <td>10</td>\n",
       "    </tr>\n",
       "    <tr>\n",
       "      <th>3</th>\n",
       "      <td>2020-10-21 18:00:00</td>\n",
       "      <td>392.79</td>\n",
       "      <td>400.00</td>\n",
       "      <td>392.57</td>\n",
       "      <td>395.55</td>\n",
       "      <td>17972.866971</td>\n",
       "      <td>7.144007e+06</td>\n",
       "      <td>ETH</td>\n",
       "      <td>2020</td>\n",
       "      <td>10</td>\n",
       "    </tr>\n",
       "    <tr>\n",
       "      <th>4</th>\n",
       "      <td>2020-10-21 20:00:00</td>\n",
       "      <td>395.62</td>\n",
       "      <td>396.49</td>\n",
       "      <td>391.52</td>\n",
       "      <td>391.52</td>\n",
       "      <td>7928.965550</td>\n",
       "      <td>3.122114e+06</td>\n",
       "      <td>ETH</td>\n",
       "      <td>2020</td>\n",
       "      <td>10</td>\n",
       "    </tr>\n",
       "  </tbody>\n",
       "</table>\n",
       "</div>"
      ],
      "text/plain": [
       "            CloseTime  OpenPrice  HighPrice  LowPrice  ClosePrice  \\\n",
       "0 2020-10-21 12:00:00     378.97     381.35    377.22      379.17   \n",
       "1 2020-10-21 14:00:00     379.92     386.20    377.92      385.23   \n",
       "2 2020-10-21 16:00:00     385.36     392.76    384.09      392.66   \n",
       "3 2020-10-21 18:00:00     392.79     400.00    392.57      395.55   \n",
       "4 2020-10-21 20:00:00     395.62     396.49    391.52      391.52   \n",
       "\n",
       "         Volume            NA Symbol  Year  Month  \n",
       "0   3866.649247  1.468172e+06    ETH  2020     10  \n",
       "1   7967.643726  3.051902e+06    ETH  2020     10  \n",
       "2  14082.805849  5.462723e+06    ETH  2020     10  \n",
       "3  17972.866971  7.144007e+06    ETH  2020     10  \n",
       "4   7928.965550  3.122114e+06    ETH  2020     10  "
      ]
     },
     "execution_count": 61,
     "metadata": {},
     "output_type": "execute_result"
    }
   ],
   "source": [
    "df_2020 = coins[coins.Year == 2020]\n",
    "df_2020_eth = df_2020[df_2020.Symbol == 'ETH']\n",
    "df_2020_eth.head()"
   ]
  },
  {
   "cell_type": "code",
   "execution_count": 62,
   "id": "22bbef69",
   "metadata": {},
   "outputs": [
    {
     "data": {
      "text/html": [
       "<iframe\n",
       "    scrolling=\"no\"\n",
       "    width=\"420px\"\n",
       "    height=\"420\"\n",
       "    src=\"iframe_figures/figure_62.html\"\n",
       "    frameborder=\"0\"\n",
       "    allowfullscreen\n",
       "></iframe>\n"
      ]
     },
     "metadata": {},
     "output_type": "display_data"
    }
   ],
   "source": [
    "#check growth for 2020\n",
    "fig = go.Figure(data=go.Ohlc(x=df_2020_eth['CloseTime'],\n",
    "                    open=df_2020_eth['OpenPrice'],\n",
    "                    high=df_2020_eth['HighPrice'],\n",
    "                    low=df_2020_eth['LowPrice'],\n",
    "                    close=df_2020_eth['ClosePrice']))\n",
    "\n",
    "fig.update_layout(autosize=False,\n",
    "    width=400,\n",
    "    height=400,template='plotly_dark',\n",
    "        title='Ethereum performance in 2020',\n",
    "        xaxis_title=\"Date\",\n",
    "        yaxis_title='Price',title_x=0.5,\n",
    "        )\n",
    "fig.update_yaxes( # the y-axis is in dollars\n",
    "        tickprefix=\"$\", showgrid=False\n",
    "    )\n",
    "\n",
    "fig.update_xaxes(\n",
    "         showgrid=True\n",
    "    )\n"
   ]
  },
  {
   "cell_type": "markdown",
   "id": "fd715a71",
   "metadata": {},
   "source": [
    "Here we see an increase from less than 400 USD to about 700 USD from October to December 2020."
   ]
  },
  {
   "cell_type": "code",
   "execution_count": 63,
   "id": "342815e2",
   "metadata": {},
   "outputs": [
    {
     "data": {
      "text/plain": [
       "529"
      ]
     },
     "execution_count": 63,
     "metadata": {},
     "output_type": "execute_result"
    }
   ],
   "source": [
    "#mean price\n",
    "round(df_2020_eth['ClosePrice'].mean())"
   ]
  },
  {
   "cell_type": "code",
   "execution_count": 64,
   "id": "1e6e0e27",
   "metadata": {},
   "outputs": [
    {
     "data": {
      "text/plain": [
       "545"
      ]
     },
     "execution_count": 64,
     "metadata": {},
     "output_type": "execute_result"
    }
   ],
   "source": [
    "#median price\n",
    "round(df_2020_eth['ClosePrice'].median())"
   ]
  },
  {
   "cell_type": "code",
   "execution_count": 65,
   "id": "c1e15402",
   "metadata": {},
   "outputs": [
    {
     "data": {
      "text/plain": [
       "374"
      ]
     },
     "execution_count": 65,
     "metadata": {},
     "output_type": "execute_result"
    }
   ],
   "source": [
    "#lowest price\n",
    "round(df_2020_eth['ClosePrice'].min())"
   ]
  },
  {
   "cell_type": "code",
   "execution_count": 66,
   "id": "4728284a",
   "metadata": {},
   "outputs": [
    {
     "data": {
      "text/plain": [
       "753"
      ]
     },
     "execution_count": 66,
     "metadata": {},
     "output_type": "execute_result"
    }
   ],
   "source": [
    "#highest price\n",
    "round(df_2020_eth['ClosePrice'].max())"
   ]
  },
  {
   "cell_type": "code",
   "execution_count": 67,
   "id": "2b01d549",
   "metadata": {},
   "outputs": [],
   "source": [
    "#extract for october to calculate the growth rate from october to december\n",
    "df_2020_eth_oct = df_2020_eth[df_2020_eth.Month == 10]"
   ]
  },
  {
   "cell_type": "code",
   "execution_count": 68,
   "id": "d2f1131f",
   "metadata": {
    "scrolled": true
   },
   "outputs": [
    {
     "data": {
      "text/plain": [
       "37.59"
      ]
     },
     "execution_count": 68,
     "metadata": {},
     "output_type": "execute_result"
    }
   ],
   "source": [
    "round(((df_2020_eth['ClosePrice'].median()-df_2020_eth_oct['ClosePrice'].median())/df_2020_eth_oct['ClosePrice'].median())*100,2)"
   ]
  },
  {
   "cell_type": "markdown",
   "id": "14ca8cb4",
   "metadata": {},
   "source": [
    "From October 2020 to December 2020, Ethereum had a mean price of USD 523, median price of USD 538, low price of USD 368, highest price of USD 753 and a growth rate of 37.25%. "
   ]
  },
  {
   "cell_type": "markdown",
   "id": "716cd4ed",
   "metadata": {},
   "source": [
    "# Analysing Ethereum Prices for 2021"
   ]
  },
  {
   "cell_type": "code",
   "execution_count": 69,
   "id": "11853201",
   "metadata": {},
   "outputs": [
    {
     "data": {
      "text/html": [
       "<div>\n",
       "<style scoped>\n",
       "    .dataframe tbody tr th:only-of-type {\n",
       "        vertical-align: middle;\n",
       "    }\n",
       "\n",
       "    .dataframe tbody tr th {\n",
       "        vertical-align: top;\n",
       "    }\n",
       "\n",
       "    .dataframe thead th {\n",
       "        text-align: right;\n",
       "    }\n",
       "</style>\n",
       "<table border=\"1\" class=\"dataframe\">\n",
       "  <thead>\n",
       "    <tr style=\"text-align: right;\">\n",
       "      <th></th>\n",
       "      <th>CloseTime</th>\n",
       "      <th>OpenPrice</th>\n",
       "      <th>HighPrice</th>\n",
       "      <th>LowPrice</th>\n",
       "      <th>ClosePrice</th>\n",
       "      <th>Volume</th>\n",
       "      <th>NA</th>\n",
       "      <th>Symbol</th>\n",
       "      <th>Year</th>\n",
       "      <th>Month</th>\n",
       "    </tr>\n",
       "  </thead>\n",
       "  <tbody>\n",
       "    <tr>\n",
       "      <th>858</th>\n",
       "      <td>2021-01-01 00:00:00</td>\n",
       "      <td>739.34</td>\n",
       "      <td>743.34</td>\n",
       "      <td>733.57</td>\n",
       "      <td>737.24</td>\n",
       "      <td>4655.843587</td>\n",
       "      <td>3.444707e+06</td>\n",
       "      <td>ETH</td>\n",
       "      <td>2021</td>\n",
       "      <td>1</td>\n",
       "    </tr>\n",
       "    <tr>\n",
       "      <th>859</th>\n",
       "      <td>2021-01-01 02:00:00</td>\n",
       "      <td>737.50</td>\n",
       "      <td>750.34</td>\n",
       "      <td>731.00</td>\n",
       "      <td>749.99</td>\n",
       "      <td>3445.525872</td>\n",
       "      <td>2.548579e+06</td>\n",
       "      <td>ETH</td>\n",
       "      <td>2021</td>\n",
       "      <td>1</td>\n",
       "    </tr>\n",
       "    <tr>\n",
       "      <th>860</th>\n",
       "      <td>2021-01-01 04:00:00</td>\n",
       "      <td>749.93</td>\n",
       "      <td>750.06</td>\n",
       "      <td>743.81</td>\n",
       "      <td>746.42</td>\n",
       "      <td>3722.576636</td>\n",
       "      <td>2.779335e+06</td>\n",
       "      <td>ETH</td>\n",
       "      <td>2021</td>\n",
       "      <td>1</td>\n",
       "    </tr>\n",
       "    <tr>\n",
       "      <th>861</th>\n",
       "      <td>2021-01-01 06:00:00</td>\n",
       "      <td>746.36</td>\n",
       "      <td>748.53</td>\n",
       "      <td>741.10</td>\n",
       "      <td>741.92</td>\n",
       "      <td>3590.832176</td>\n",
       "      <td>2.670283e+06</td>\n",
       "      <td>ETH</td>\n",
       "      <td>2021</td>\n",
       "      <td>1</td>\n",
       "    </tr>\n",
       "    <tr>\n",
       "      <th>862</th>\n",
       "      <td>2021-01-01 08:00:00</td>\n",
       "      <td>742.96</td>\n",
       "      <td>744.09</td>\n",
       "      <td>735.55</td>\n",
       "      <td>738.18</td>\n",
       "      <td>6876.177298</td>\n",
       "      <td>5.084683e+06</td>\n",
       "      <td>ETH</td>\n",
       "      <td>2021</td>\n",
       "      <td>1</td>\n",
       "    </tr>\n",
       "  </tbody>\n",
       "</table>\n",
       "</div>"
      ],
      "text/plain": [
       "              CloseTime  OpenPrice  HighPrice  LowPrice  ClosePrice  \\\n",
       "858 2021-01-01 00:00:00     739.34     743.34    733.57      737.24   \n",
       "859 2021-01-01 02:00:00     737.50     750.34    731.00      749.99   \n",
       "860 2021-01-01 04:00:00     749.93     750.06    743.81      746.42   \n",
       "861 2021-01-01 06:00:00     746.36     748.53    741.10      741.92   \n",
       "862 2021-01-01 08:00:00     742.96     744.09    735.55      738.18   \n",
       "\n",
       "          Volume            NA Symbol  Year  Month  \n",
       "858  4655.843587  3.444707e+06    ETH  2021      1  \n",
       "859  3445.525872  2.548579e+06    ETH  2021      1  \n",
       "860  3722.576636  2.779335e+06    ETH  2021      1  \n",
       "861  3590.832176  2.670283e+06    ETH  2021      1  \n",
       "862  6876.177298  5.084683e+06    ETH  2021      1  "
      ]
     },
     "execution_count": 69,
     "metadata": {},
     "output_type": "execute_result"
    }
   ],
   "source": [
    "df_2021 = coins[coins.Year == 2021]\n",
    "df_2021_eth = df_2021[df_2021.Symbol == 'ETH']\n",
    "df_2021_eth.head()"
   ]
  },
  {
   "cell_type": "code",
   "execution_count": 70,
   "id": "7007529f",
   "metadata": {},
   "outputs": [
    {
     "data": {
      "text/html": [
       "<iframe\n",
       "    scrolling=\"no\"\n",
       "    width=\"420px\"\n",
       "    height=\"420\"\n",
       "    src=\"iframe_figures/figure_70.html\"\n",
       "    frameborder=\"0\"\n",
       "    allowfullscreen\n",
       "></iframe>\n"
      ]
     },
     "metadata": {},
     "output_type": "display_data"
    }
   ],
   "source": [
    "#check growth for 2021\n",
    "fig = go.Figure(data=go.Ohlc(x=df_2021_eth['CloseTime'],\n",
    "                    open=df_2021_eth['OpenPrice'],\n",
    "                    high=df_2021_eth['HighPrice'],\n",
    "                    low=df_2021_eth['LowPrice'],\n",
    "                    close=df_2021_eth['ClosePrice']))\n",
    "\n",
    "fig.update_layout(autosize=False,\n",
    "    width=400,\n",
    "    height=400,template='plotly_dark',\n",
    "        title='Ethereum performance in 2021',\n",
    "        xaxis_title=\"Date\",\n",
    "        yaxis_title='Price',title_x=0.5,\n",
    "        )\n",
    "fig.update_yaxes( # the y-axis is in dollars\n",
    "        tickprefix=\"$\", showgrid=False\n",
    "    )\n",
    "\n",
    "fig.update_xaxes(\n",
    "         showgrid=True\n",
    "    )\n"
   ]
  },
  {
   "cell_type": "markdown",
   "id": "477a489a",
   "metadata": {},
   "source": [
    "Here ethereum prices fluctuate between 1,000 USD to almost 5,000 USD. From January 2021 to May 2021, there was a steady climb to about 4,000 USD. From May 2021 to July 2021, there was a drop to 1,800 USD. From August 2021 to September 2021, it increased to 4,000 USD and increased to almost 5,000 USD in November 2021. It dropped down to 4,000 USD in December 2021."
   ]
  },
  {
   "cell_type": "code",
   "execution_count": 71,
   "id": "fc54a151",
   "metadata": {},
   "outputs": [
    {
     "data": {
      "text/plain": [
       "2772"
      ]
     },
     "execution_count": 71,
     "metadata": {},
     "output_type": "execute_result"
    }
   ],
   "source": [
    "#mean price\n",
    "round(df_2021_eth['ClosePrice'].mean())"
   ]
  },
  {
   "cell_type": "code",
   "execution_count": 72,
   "id": "e33cb91c",
   "metadata": {},
   "outputs": [
    {
     "data": {
      "text/plain": [
       "2615"
      ]
     },
     "execution_count": 72,
     "metadata": {},
     "output_type": "execute_result"
    }
   ],
   "source": [
    "#median price\n",
    "round(df_2021_eth['ClosePrice'].median())"
   ]
  },
  {
   "cell_type": "code",
   "execution_count": 73,
   "id": "93ac1235",
   "metadata": {},
   "outputs": [
    {
     "data": {
      "text/plain": [
       "727"
      ]
     },
     "execution_count": 73,
     "metadata": {},
     "output_type": "execute_result"
    }
   ],
   "source": [
    "#lowest price\n",
    "round(df_2021_eth['ClosePrice'].min())"
   ]
  },
  {
   "cell_type": "code",
   "execution_count": 74,
   "id": "d5030922",
   "metadata": {},
   "outputs": [
    {
     "data": {
      "text/plain": [
       "4849"
      ]
     },
     "execution_count": 74,
     "metadata": {},
     "output_type": "execute_result"
    }
   ],
   "source": [
    "#highest price\n",
    "round(df_2021_eth['ClosePrice'].max())"
   ]
  },
  {
   "cell_type": "code",
   "execution_count": 75,
   "id": "efceaacb",
   "metadata": {},
   "outputs": [],
   "source": [
    "#extract for january to calculate the growth rate from january to december\n",
    "df_2021_eth_jan = df_2021_eth[df_2021_eth.Month == 1]"
   ]
  },
  {
   "cell_type": "code",
   "execution_count": 76,
   "id": "a559e453",
   "metadata": {
    "scrolled": true
   },
   "outputs": [
    {
     "data": {
      "text/plain": [
       "112.83"
      ]
     },
     "execution_count": 76,
     "metadata": {},
     "output_type": "execute_result"
    }
   ],
   "source": [
    "round(((df_2021_eth['ClosePrice'].median()-df_2021_eth_jan['ClosePrice'].median())/df_2021_eth_jan['ClosePrice'].median())*100,2)"
   ]
  },
  {
   "cell_type": "markdown",
   "id": "c46089d7",
   "metadata": {},
   "source": [
    "From January 2021 to December 2021, Ethereum had a mean price of 2,772 USD, median price of 2,615 USD, low price of 727 USD, highest price of 4849 USD and a growth rate of 112.83%. "
   ]
  },
  {
   "cell_type": "markdown",
   "id": "0183409c",
   "metadata": {},
   "source": [
    "# Analyzing ethereum prices for 2022"
   ]
  },
  {
   "cell_type": "code",
   "execution_count": 77,
   "id": "c9dcccb2",
   "metadata": {},
   "outputs": [
    {
     "data": {
      "text/html": [
       "<div>\n",
       "<style scoped>\n",
       "    .dataframe tbody tr th:only-of-type {\n",
       "        vertical-align: middle;\n",
       "    }\n",
       "\n",
       "    .dataframe tbody tr th {\n",
       "        vertical-align: top;\n",
       "    }\n",
       "\n",
       "    .dataframe thead th {\n",
       "        text-align: right;\n",
       "    }\n",
       "</style>\n",
       "<table border=\"1\" class=\"dataframe\">\n",
       "  <thead>\n",
       "    <tr style=\"text-align: right;\">\n",
       "      <th></th>\n",
       "      <th>CloseTime</th>\n",
       "      <th>OpenPrice</th>\n",
       "      <th>HighPrice</th>\n",
       "      <th>LowPrice</th>\n",
       "      <th>ClosePrice</th>\n",
       "      <th>Volume</th>\n",
       "      <th>NA</th>\n",
       "      <th>Symbol</th>\n",
       "      <th>Year</th>\n",
       "      <th>Month</th>\n",
       "    </tr>\n",
       "  </thead>\n",
       "  <tbody>\n",
       "    <tr>\n",
       "      <th>5238</th>\n",
       "      <td>2022-01-01 00:00:00</td>\n",
       "      <td>3685.69</td>\n",
       "      <td>3712.95</td>\n",
       "      <td>3674.25</td>\n",
       "      <td>3677.00</td>\n",
       "      <td>493.531015</td>\n",
       "      <td>1.821495e+06</td>\n",
       "      <td>ETH</td>\n",
       "      <td>2022</td>\n",
       "      <td>1</td>\n",
       "    </tr>\n",
       "    <tr>\n",
       "      <th>5239</th>\n",
       "      <td>2022-01-01 02:00:00</td>\n",
       "      <td>3678.39</td>\n",
       "      <td>3748.64</td>\n",
       "      <td>3678.39</td>\n",
       "      <td>3727.16</td>\n",
       "      <td>2586.347793</td>\n",
       "      <td>9.669024e+06</td>\n",
       "      <td>ETH</td>\n",
       "      <td>2022</td>\n",
       "      <td>1</td>\n",
       "    </tr>\n",
       "    <tr>\n",
       "      <th>5240</th>\n",
       "      <td>2022-01-01 04:00:00</td>\n",
       "      <td>3726.24</td>\n",
       "      <td>3737.79</td>\n",
       "      <td>3722.39</td>\n",
       "      <td>3723.80</td>\n",
       "      <td>224.338952</td>\n",
       "      <td>8.365689e+05</td>\n",
       "      <td>ETH</td>\n",
       "      <td>2022</td>\n",
       "      <td>1</td>\n",
       "    </tr>\n",
       "    <tr>\n",
       "      <th>5241</th>\n",
       "      <td>2022-01-01 06:00:00</td>\n",
       "      <td>3725.01</td>\n",
       "      <td>3762.47</td>\n",
       "      <td>3705.77</td>\n",
       "      <td>3737.48</td>\n",
       "      <td>248.937840</td>\n",
       "      <td>9.274137e+05</td>\n",
       "      <td>ETH</td>\n",
       "      <td>2022</td>\n",
       "      <td>1</td>\n",
       "    </tr>\n",
       "    <tr>\n",
       "      <th>5242</th>\n",
       "      <td>2022-01-01 08:00:00</td>\n",
       "      <td>3738.71</td>\n",
       "      <td>3741.34</td>\n",
       "      <td>3701.42</td>\n",
       "      <td>3713.17</td>\n",
       "      <td>525.662620</td>\n",
       "      <td>1.951790e+06</td>\n",
       "      <td>ETH</td>\n",
       "      <td>2022</td>\n",
       "      <td>1</td>\n",
       "    </tr>\n",
       "  </tbody>\n",
       "</table>\n",
       "</div>"
      ],
      "text/plain": [
       "               CloseTime  OpenPrice  HighPrice  LowPrice  ClosePrice  \\\n",
       "5238 2022-01-01 00:00:00    3685.69    3712.95   3674.25     3677.00   \n",
       "5239 2022-01-01 02:00:00    3678.39    3748.64   3678.39     3727.16   \n",
       "5240 2022-01-01 04:00:00    3726.24    3737.79   3722.39     3723.80   \n",
       "5241 2022-01-01 06:00:00    3725.01    3762.47   3705.77     3737.48   \n",
       "5242 2022-01-01 08:00:00    3738.71    3741.34   3701.42     3713.17   \n",
       "\n",
       "           Volume            NA Symbol  Year  Month  \n",
       "5238   493.531015  1.821495e+06    ETH  2022      1  \n",
       "5239  2586.347793  9.669024e+06    ETH  2022      1  \n",
       "5240   224.338952  8.365689e+05    ETH  2022      1  \n",
       "5241   248.937840  9.274137e+05    ETH  2022      1  \n",
       "5242   525.662620  1.951790e+06    ETH  2022      1  "
      ]
     },
     "execution_count": 77,
     "metadata": {},
     "output_type": "execute_result"
    }
   ],
   "source": [
    "df_2022 = coins[coins.Year == 2022]\n",
    "df_2022_eth = df_2022[df_2022.Symbol == 'ETH']\n",
    "df_2022_eth.head()"
   ]
  },
  {
   "cell_type": "code",
   "execution_count": 78,
   "id": "deb80787",
   "metadata": {},
   "outputs": [
    {
     "data": {
      "text/html": [
       "<iframe\n",
       "    scrolling=\"no\"\n",
       "    width=\"420px\"\n",
       "    height=\"420\"\n",
       "    src=\"iframe_figures/figure_78.html\"\n",
       "    frameborder=\"0\"\n",
       "    allowfullscreen\n",
       "></iframe>\n"
      ]
     },
     "metadata": {},
     "output_type": "display_data"
    }
   ],
   "source": [
    "#check growth for 2021\n",
    "fig = go.Figure(data=go.Ohlc(x=df_2022_eth['CloseTime'],\n",
    "                    open=df_2022_eth['OpenPrice'],\n",
    "                    high=df_2022_eth['HighPrice'],\n",
    "                    low=df_2022_eth['LowPrice'],\n",
    "                    close=df_2022_eth['ClosePrice']))\n",
    "\n",
    "fig.update_layout(autosize=False,\n",
    "    width=400,\n",
    "    height=400,template='plotly_dark',\n",
    "        title='Ethereum performance in 2022',\n",
    "        xaxis_title=\"Date\",\n",
    "        yaxis_title='Price',title_x=0.5,\n",
    "        )\n",
    "fig.update_yaxes( # the y-axis is in dollars\n",
    "        tickprefix=\"$\", showgrid=False\n",
    "    )\n",
    "\n",
    "fig.update_xaxes(\n",
    "         showgrid=True\n",
    "    )\n"
   ]
  },
  {
   "cell_type": "markdown",
   "id": "92910b49",
   "metadata": {},
   "source": [
    "Here ethereum prices fluctuate between 3,500 USD to 2,500 USD from January 2022 to present. There is either a steady decrease or a steady increase."
   ]
  },
  {
   "cell_type": "code",
   "execution_count": 79,
   "id": "09ce6a5b",
   "metadata": {},
   "outputs": [
    {
     "data": {
      "text/plain": [
       "2958"
      ]
     },
     "execution_count": 79,
     "metadata": {},
     "output_type": "execute_result"
    }
   ],
   "source": [
    "#mean price\n",
    "round(df_2022_eth['ClosePrice'].mean())"
   ]
  },
  {
   "cell_type": "code",
   "execution_count": 80,
   "id": "91312e81",
   "metadata": {},
   "outputs": [
    {
     "data": {
      "text/plain": [
       "2939"
      ]
     },
     "execution_count": 80,
     "metadata": {},
     "output_type": "execute_result"
    }
   ],
   "source": [
    "#median price\n",
    "round(df_2022_eth['ClosePrice'].median())"
   ]
  },
  {
   "cell_type": "code",
   "execution_count": 81,
   "id": "0c4e5c9c",
   "metadata": {},
   "outputs": [
    {
     "data": {
      "text/plain": [
       "2184"
      ]
     },
     "execution_count": 81,
     "metadata": {},
     "output_type": "execute_result"
    }
   ],
   "source": [
    "#lowest price\n",
    "round(df_2022_eth['ClosePrice'].min())"
   ]
  },
  {
   "cell_type": "code",
   "execution_count": 82,
   "id": "4dbd750b",
   "metadata": {},
   "outputs": [
    {
     "data": {
      "text/plain": [
       "3869"
      ]
     },
     "execution_count": 82,
     "metadata": {},
     "output_type": "execute_result"
    }
   ],
   "source": [
    "#highest price\n",
    "round(df_2022_eth['ClosePrice'].max())"
   ]
  },
  {
   "cell_type": "code",
   "execution_count": 83,
   "id": "0eeaad7e",
   "metadata": {},
   "outputs": [],
   "source": [
    "#extract for january to calculate the growth rate from january to december\n",
    "df_2022_eth_jan = df_2022_eth[df_2022_eth.Month == 1]"
   ]
  },
  {
   "cell_type": "code",
   "execution_count": 84,
   "id": "648de18b",
   "metadata": {
    "scrolled": true
   },
   "outputs": [
    {
     "data": {
      "text/plain": [
       "-6.9"
      ]
     },
     "execution_count": 84,
     "metadata": {},
     "output_type": "execute_result"
    }
   ],
   "source": [
    "round(((df_2022_eth['ClosePrice'].median()-df_2022_eth_jan['ClosePrice'].median())/df_2022_eth_jan['ClosePrice'].median())*100,2)"
   ]
  },
  {
   "cell_type": "markdown",
   "id": "220ab403",
   "metadata": {},
   "source": [
    "From January 2022 to present, Ethereum has a mean price of 2,967 USD, median price of 2,960 USD, low price of 2,184 USD, highest price of 3,869 USD and a growth rate of -6.22%. "
   ]
  },
  {
   "cell_type": "markdown",
   "id": "a57bb052",
   "metadata": {},
   "source": [
    "# Analyzing ethereum prices from 2020 - present"
   ]
  },
  {
   "cell_type": "code",
   "execution_count": 85,
   "id": "37a88229",
   "metadata": {},
   "outputs": [
    {
     "data": {
      "text/html": [
       "<div>\n",
       "<style scoped>\n",
       "    .dataframe tbody tr th:only-of-type {\n",
       "        vertical-align: middle;\n",
       "    }\n",
       "\n",
       "    .dataframe tbody tr th {\n",
       "        vertical-align: top;\n",
       "    }\n",
       "\n",
       "    .dataframe thead th {\n",
       "        text-align: right;\n",
       "    }\n",
       "</style>\n",
       "<table border=\"1\" class=\"dataframe\">\n",
       "  <thead>\n",
       "    <tr style=\"text-align: right;\">\n",
       "      <th></th>\n",
       "      <th>CloseTime</th>\n",
       "      <th>OpenPrice</th>\n",
       "      <th>HighPrice</th>\n",
       "      <th>LowPrice</th>\n",
       "      <th>ClosePrice</th>\n",
       "      <th>Volume</th>\n",
       "      <th>NA</th>\n",
       "      <th>Symbol</th>\n",
       "      <th>Year</th>\n",
       "      <th>Month</th>\n",
       "    </tr>\n",
       "  </thead>\n",
       "  <tbody>\n",
       "    <tr>\n",
       "      <th>0</th>\n",
       "      <td>2020-10-21 12:00:00</td>\n",
       "      <td>378.97</td>\n",
       "      <td>381.35</td>\n",
       "      <td>377.22</td>\n",
       "      <td>379.17</td>\n",
       "      <td>3866.649247</td>\n",
       "      <td>1.468172e+06</td>\n",
       "      <td>ETH</td>\n",
       "      <td>2020</td>\n",
       "      <td>10</td>\n",
       "    </tr>\n",
       "    <tr>\n",
       "      <th>1</th>\n",
       "      <td>2020-10-21 14:00:00</td>\n",
       "      <td>379.92</td>\n",
       "      <td>386.20</td>\n",
       "      <td>377.92</td>\n",
       "      <td>385.23</td>\n",
       "      <td>7967.643726</td>\n",
       "      <td>3.051902e+06</td>\n",
       "      <td>ETH</td>\n",
       "      <td>2020</td>\n",
       "      <td>10</td>\n",
       "    </tr>\n",
       "    <tr>\n",
       "      <th>2</th>\n",
       "      <td>2020-10-21 16:00:00</td>\n",
       "      <td>385.36</td>\n",
       "      <td>392.76</td>\n",
       "      <td>384.09</td>\n",
       "      <td>392.66</td>\n",
       "      <td>14082.805849</td>\n",
       "      <td>5.462723e+06</td>\n",
       "      <td>ETH</td>\n",
       "      <td>2020</td>\n",
       "      <td>10</td>\n",
       "    </tr>\n",
       "    <tr>\n",
       "      <th>3</th>\n",
       "      <td>2020-10-21 18:00:00</td>\n",
       "      <td>392.79</td>\n",
       "      <td>400.00</td>\n",
       "      <td>392.57</td>\n",
       "      <td>395.55</td>\n",
       "      <td>17972.866971</td>\n",
       "      <td>7.144007e+06</td>\n",
       "      <td>ETH</td>\n",
       "      <td>2020</td>\n",
       "      <td>10</td>\n",
       "    </tr>\n",
       "    <tr>\n",
       "      <th>4</th>\n",
       "      <td>2020-10-21 20:00:00</td>\n",
       "      <td>395.62</td>\n",
       "      <td>396.49</td>\n",
       "      <td>391.52</td>\n",
       "      <td>391.52</td>\n",
       "      <td>7928.965550</td>\n",
       "      <td>3.122114e+06</td>\n",
       "      <td>ETH</td>\n",
       "      <td>2020</td>\n",
       "      <td>10</td>\n",
       "    </tr>\n",
       "  </tbody>\n",
       "</table>\n",
       "</div>"
      ],
      "text/plain": [
       "            CloseTime  OpenPrice  HighPrice  LowPrice  ClosePrice  \\\n",
       "0 2020-10-21 12:00:00     378.97     381.35    377.22      379.17   \n",
       "1 2020-10-21 14:00:00     379.92     386.20    377.92      385.23   \n",
       "2 2020-10-21 16:00:00     385.36     392.76    384.09      392.66   \n",
       "3 2020-10-21 18:00:00     392.79     400.00    392.57      395.55   \n",
       "4 2020-10-21 20:00:00     395.62     396.49    391.52      391.52   \n",
       "\n",
       "         Volume            NA Symbol  Year  Month  \n",
       "0   3866.649247  1.468172e+06    ETH  2020     10  \n",
       "1   7967.643726  3.051902e+06    ETH  2020     10  \n",
       "2  14082.805849  5.462723e+06    ETH  2020     10  \n",
       "3  17972.866971  7.144007e+06    ETH  2020     10  \n",
       "4   7928.965550  3.122114e+06    ETH  2020     10  "
      ]
     },
     "execution_count": 85,
     "metadata": {},
     "output_type": "execute_result"
    }
   ],
   "source": [
    "df_all_eth = coins[coins.Symbol == 'ETH']\n",
    "df_all_eth.head()"
   ]
  },
  {
   "cell_type": "code",
   "execution_count": 86,
   "id": "9c815dd5",
   "metadata": {},
   "outputs": [
    {
     "data": {
      "text/html": [
       "<iframe\n",
       "    scrolling=\"no\"\n",
       "    width=\"420px\"\n",
       "    height=\"420\"\n",
       "    src=\"iframe_figures/figure_86.html\"\n",
       "    frameborder=\"0\"\n",
       "    allowfullscreen\n",
       "></iframe>\n"
      ]
     },
     "metadata": {},
     "output_type": "display_data"
    }
   ],
   "source": [
    "#check growth\n",
    "fig = go.Figure(data=go.Ohlc(x=df_all_eth['CloseTime'],\n",
    "                    open=df_all_eth['OpenPrice'],\n",
    "                    high=df_all_eth['HighPrice'],\n",
    "                    low=df_all_eth['LowPrice'],\n",
    "                    close=df_all_eth['ClosePrice']))\n",
    "\n",
    "fig.update_layout(autosize=False,\n",
    "    width=400,\n",
    "    height=400,template='plotly_dark',\n",
    "        title='Ethereum performance from 2020 - present',\n",
    "        xaxis_title=\"Date\",\n",
    "        yaxis_title='Price',title_x=0.5,\n",
    "        )\n",
    "fig.update_yaxes( # the y-axis is in dollars\n",
    "        tickprefix=\"$\", showgrid=False\n",
    "    )\n",
    "\n",
    "fig.update_xaxes(\n",
    "         showgrid=True\n",
    "    )"
   ]
  },
  {
   "cell_type": "markdown",
   "id": "bef8f1f4",
   "metadata": {},
   "source": [
    "From October 2020 to present, Ethereum prices ranged from 1,000 USD to up to 5,000 USD with a steady increase or steady decrease."
   ]
  },
  {
   "cell_type": "code",
   "execution_count": 87,
   "id": "cb762b23",
   "metadata": {},
   "outputs": [
    {
     "data": {
      "text/plain": [
       "2475"
      ]
     },
     "execution_count": 87,
     "metadata": {},
     "output_type": "execute_result"
    }
   ],
   "source": [
    "#mean price\n",
    "round(df_all_eth['ClosePrice'].mean())"
   ]
  },
  {
   "cell_type": "code",
   "execution_count": 88,
   "id": "6b7da4f9",
   "metadata": {},
   "outputs": [
    {
     "data": {
      "text/plain": [
       "2500"
      ]
     },
     "execution_count": 88,
     "metadata": {},
     "output_type": "execute_result"
    }
   ],
   "source": [
    "#median price\n",
    "round(df_all_eth['ClosePrice'].median())"
   ]
  },
  {
   "cell_type": "code",
   "execution_count": 89,
   "id": "8b324326",
   "metadata": {},
   "outputs": [
    {
     "data": {
      "text/plain": [
       "374"
      ]
     },
     "execution_count": 89,
     "metadata": {},
     "output_type": "execute_result"
    }
   ],
   "source": [
    "#lowest price\n",
    "round(df_all_eth['ClosePrice'].min())"
   ]
  },
  {
   "cell_type": "code",
   "execution_count": 90,
   "id": "7bde88df",
   "metadata": {},
   "outputs": [
    {
     "data": {
      "text/plain": [
       "4849"
      ]
     },
     "execution_count": 90,
     "metadata": {},
     "output_type": "execute_result"
    }
   ],
   "source": [
    "#highest price\n",
    "round(df_all_eth['ClosePrice'].max())"
   ]
  },
  {
   "cell_type": "code",
   "execution_count": 91,
   "id": "9b162009",
   "metadata": {
    "scrolled": true
   },
   "outputs": [
    {
     "data": {
      "text/plain": [
       "531.07"
      ]
     },
     "execution_count": 91,
     "metadata": {},
     "output_type": "execute_result"
    }
   ],
   "source": [
    "#use extracted data for october to calculate the growth rate from October 2020 to present\n",
    "round(((df_all_eth['ClosePrice'].median()-df_2020_eth_oct['ClosePrice'].median())/df_2020_eth_oct['ClosePrice'].median())*100,2)"
   ]
  },
  {
   "cell_type": "markdown",
   "id": "72f41d1c",
   "metadata": {},
   "source": [
    "From October 2020 to present, Ethereum has a mean price of 2,460 USD, median price of 2,480 USD, low price of 368 USD, highest price of 4,849 USD and a growth rate of 532.65%. "
   ]
  },
  {
   "cell_type": "markdown",
   "id": "72c3a7f6",
   "metadata": {},
   "source": [
    "# Volume of Trade"
   ]
  },
  {
   "cell_type": "code",
   "execution_count": 92,
   "id": "84ba168f",
   "metadata": {},
   "outputs": [
    {
     "data": {
      "text/html": [
       "<iframe\n",
       "    scrolling=\"no\"\n",
       "    width=\"420px\"\n",
       "    height=\"420\"\n",
       "    src=\"iframe_figures/figure_92.html\"\n",
       "    frameborder=\"0\"\n",
       "    allowfullscreen\n",
       "></iframe>\n"
      ]
     },
     "metadata": {},
     "output_type": "display_data"
    }
   ],
   "source": [
    "#check volume for bitcoin\n",
    "# creating trace1\n",
    "trace1 =go.Scatter(\n",
    "                    x = df_2020_btc.ClosePrice,\n",
    "                    y = df_2020_btc.Volume,\n",
    "                    mode = \"markers\",\n",
    "                    name = \"2020\",\n",
    "                    marker = dict(color = 'rgba(255, 128, 255, 0.8)'),\n",
    "                    text= df_2020_btc.CloseTime)\n",
    "# creating trace2\n",
    "trace2 =go.Scatter(\n",
    "                    x = df_2021_btc.ClosePrice,\n",
    "                    y = df_2021_btc.Volume,\n",
    "                    mode = \"markers\",\n",
    "                    name = \"2021\",\n",
    "                    marker = dict(color = 'rgba(255, 128, 2, 0.8)'),\n",
    "                    text= df_2021_btc.CloseTime)\n",
    "# creating trace3\n",
    "trace3 =go.Scatter(\n",
    "                    x = df_2022_btc.ClosePrice,\n",
    "                    y = df_2022_btc.Volume,\n",
    "                    mode = \"markers\",\n",
    "                    name = \"2022\",\n",
    "                    marker = dict(color = 'rgba(0, 255, 200, 0.8)'),\n",
    "                    text= df_2022_btc.CloseTime)\n",
    "data = [trace1, trace2, trace3]\n",
    "layout = dict(autosize=False,\n",
    "    width=400,\n",
    "    height=400,template='plotly_dark', title = 'Volume of Bitcoin Trade in 2020, 2021 and 2022',\n",
    "              xaxis= dict(title= 'ClosePrice',ticklen= 5,zeroline= False),\n",
    "              yaxis= dict(title= 'Volume',ticklen= 5,zeroline= False)\n",
    "             )\n",
    "fig = dict(data = data, layout = layout)\n",
    "iplot(fig)"
   ]
  },
  {
   "cell_type": "markdown",
   "id": "27149b60",
   "metadata": {},
   "source": [
    "The volume of bitcoin trade from 2020 to present ranges from 0-8,000 with a daily trade of about 2,000"
   ]
  },
  {
   "cell_type": "code",
   "execution_count": 93,
   "id": "8dcc11e0",
   "metadata": {},
   "outputs": [
    {
     "data": {
      "text/html": [
       "<iframe\n",
       "    scrolling=\"no\"\n",
       "    width=\"420px\"\n",
       "    height=\"420\"\n",
       "    src=\"iframe_figures/figure_93.html\"\n",
       "    frameborder=\"0\"\n",
       "    allowfullscreen\n",
       "></iframe>\n"
      ]
     },
     "metadata": {},
     "output_type": "display_data"
    }
   ],
   "source": [
    "#check volume for ethereum\n",
    "# creating trace1\n",
    "trace1 =go.Scatter(\n",
    "                    x = df_2020_eth.ClosePrice,\n",
    "                    y = df_2020_eth.Volume,\n",
    "                    mode = \"markers\",\n",
    "                    name = \"2020\",\n",
    "                    marker = dict(color = 'rgba(255, 128, 255, 0.8)'),\n",
    "                    text= df_2020_eth.CloseTime)\n",
    "# creating trace2\n",
    "trace2 =go.Scatter(\n",
    "                    x = df_2021_eth.ClosePrice,\n",
    "                    y = df_2021_eth.Volume,\n",
    "                    mode = \"markers\",\n",
    "                    name = \"2021\",\n",
    "                    marker = dict(color = 'rgba(255, 128, 2, 0.8)'),\n",
    "                    text= df_2021_eth.CloseTime)\n",
    "# creating trace3\n",
    "trace3 =go.Scatter(\n",
    "                    x = df_2022_eth.ClosePrice,\n",
    "                    y = df_2022_eth.Volume,\n",
    "                    mode = \"markers\",\n",
    "                    name = \"2022\",\n",
    "                    marker = dict(color = 'rgba(0, 255, 200, 0.8)'),\n",
    "                    text= df_2022_eth.CloseTime)\n",
    "data = [trace1, trace2, trace3]\n",
    "layout = dict(autosize=False,\n",
    "    width=400,\n",
    "    height=400,template='plotly_dark', title = 'Volume of Ethereum Trade in 2020, 2021 and 2022',\n",
    "              xaxis= dict(title= 'ClosePrice',ticklen= 5,zeroline= False),\n",
    "              yaxis= dict(title= 'Volume',ticklen= 5,zeroline= False)\n",
    "             )\n",
    "fig = dict(data = data, layout = layout)\n",
    "iplot(fig)"
   ]
  },
  {
   "cell_type": "markdown",
   "id": "ecd1ee8c",
   "metadata": {},
   "source": [
    "The volume of ethereum trade from 2020 to present ranges from 0-70k with a daily trade of 0-10k"
   ]
  },
  {
   "cell_type": "markdown",
   "id": "3692f95b",
   "metadata": {},
   "source": [
    "# Conclusion"
   ]
  },
  {
   "cell_type": "markdown",
   "id": "4b308275",
   "metadata": {},
   "source": [
    "Regardless of whether the price is high or low, Bitcoin and Ethereum are the biggest cryptocurrencies at the moment known to always make a comeback. It might be hard for a novice trader who probably wants to start their trading journey this year or in the future to be convinced to take a risk but with the data presented above, it is safe to make a bet on these two and be patient, especially with the both leading in the crypto market."
   ]
  }
 ],
 "metadata": {
  "kernelspec": {
   "display_name": "Python 3",
   "language": "python",
   "name": "python3"
  },
  "language_info": {
   "codemirror_mode": {
    "name": "ipython",
    "version": 3
   },
   "file_extension": ".py",
   "mimetype": "text/x-python",
   "name": "python",
   "nbconvert_exporter": "python",
   "pygments_lexer": "ipython3",
   "version": "3.8.8"
  }
 },
 "nbformat": 4,
 "nbformat_minor": 5
}
