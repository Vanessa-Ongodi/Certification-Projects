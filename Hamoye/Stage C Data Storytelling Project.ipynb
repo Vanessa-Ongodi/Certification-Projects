{
 "cells": [
  {
   "cell_type": "markdown",
   "id": "7c3f3506",
   "metadata": {},
   "source": [
    "# Comeback Coins \n",
    "\n",
    "A data storytelling project on first generation (bitcoin) and second generation (ethereum) cryptocurrency."
   ]
  },
  {
   "cell_type": "code",
   "execution_count": null,
   "id": "ed859be6",
   "metadata": {},
   "outputs": [],
   "source": [
    "#import libraries\n",
    "import numpy as np\n",
    "import pandas as pd\n",
    "import seaborn as sns\n",
    "import matplotlib.pyplot as plt\n",
    "import requests\n",
    "import bs4 as bs\n",
    "from bs4 import BeautifulSoup\n",
    "import plotly.express as px\n",
    "import plotly.graph_objects as go\n",
    "from plotly.offline import iplot\n",
    "%matplotlib inline"
   ]
  },
  {
   "cell_type": "markdown",
   "id": "0e15e320",
   "metadata": {},
   "source": [
    "<h2 id=\"DSCW\">Downloading And Scraping The Contents Of A Web Page</h2> \n"
   ]
  },
  {
   "cell_type": "markdown",
   "id": "36efb4c6",
   "metadata": {},
   "source": [
    "We Download the contents of the web page:\n"
   ]
  },
  {
   "cell_type": "code",
   "execution_count": null,
   "id": "708470ed",
   "metadata": {},
   "outputs": [],
   "source": [
    "url = \"http://www.cryptowat.ch\""
   ]
  },
  {
   "cell_type": "markdown",
   "id": "18a10dc1",
   "metadata": {},
   "source": [
    "We use <code>get</code> to download the contents of the webpage in text format and store in a variable called <code>data</code>:\n"
   ]
  },
  {
   "cell_type": "code",
   "execution_count": null,
   "id": "ba980182",
   "metadata": {},
   "outputs": [],
   "source": [
    "data  = requests.get(url).text "
   ]
  },
  {
   "cell_type": "markdown",
   "id": "bec4f495",
   "metadata": {},
   "source": [
    "We create a <code>BeautifulSoup</code> object using the <code>BeautifulSoup</code> constructor\n"
   ]
  },
  {
   "cell_type": "code",
   "execution_count": null,
   "id": "84450e05",
   "metadata": {},
   "outputs": [],
   "source": [
    "soup = BeautifulSoup(data,\"html.parser\")  # create a soup object using the variable 'data'"
   ]
  },
  {
   "cell_type": "markdown",
   "id": "da5257f5",
   "metadata": {},
   "source": [
    "Scrape all links\n"
   ]
  },
  {
   "cell_type": "code",
   "execution_count": null,
   "id": "e210bc41",
   "metadata": {},
   "outputs": [],
   "source": [
    "for link in soup.find_all('a',href=True):  # in html anchor/link is represented by the tag <a>\n",
    "\n",
    "    print(link.get('href'))\n"
   ]
  },
  {
   "cell_type": "markdown",
   "id": "76552ca5",
   "metadata": {},
   "source": [
    "This helps us identify the contents of the webpage and how we can scrape the data. The data we need is from the cryptocurrency markets."
   ]
  },
  {
   "cell_type": "code",
   "execution_count": null,
   "id": "a6c1d09e",
   "metadata": {},
   "outputs": [],
   "source": [
    "#let's inspect the elements in the cryptocurrency markets\n",
    "\n",
    "url = \"http://www.cryptowat.ch/markets\""
   ]
  },
  {
   "cell_type": "code",
   "execution_count": null,
   "id": "b5e92f60",
   "metadata": {},
   "outputs": [],
   "source": [
    "data  = requests.get(url).text "
   ]
  },
  {
   "cell_type": "code",
   "execution_count": null,
   "id": "cf35ba8b",
   "metadata": {},
   "outputs": [],
   "source": [
    "soup = BeautifulSoup(data,\"html.parser\")"
   ]
  },
  {
   "cell_type": "code",
   "execution_count": null,
   "id": "bc8aa0eb",
   "metadata": {
    "scrolled": true
   },
   "outputs": [],
   "source": [
    "for link in soup.find_all('a',href=True):  # in html anchor/link is represented by the tag <a>\n",
    "\n",
    "    print(link.get('href'))"
   ]
  },
  {
   "cell_type": "markdown",
   "id": "789cda4d",
   "metadata": {},
   "source": [
    "We see there is an information on crypto market for all markets here. Let's inspect the contents."
   ]
  },
  {
   "cell_type": "code",
   "execution_count": null,
   "id": "a3098adf",
   "metadata": {},
   "outputs": [],
   "source": [
    "url=\"https://api.cryptowat.ch/markets\""
   ]
  },
  {
   "cell_type": "code",
   "execution_count": null,
   "id": "ad35fd6a",
   "metadata": {},
   "outputs": [],
   "source": [
    "# get the contents of the webpage in text format and store in a variable called data\n",
    "data  = requests.get(url).text"
   ]
  },
  {
   "cell_type": "code",
   "execution_count": null,
   "id": "42377273",
   "metadata": {},
   "outputs": [],
   "source": [
    "soup = BeautifulSoup(data,\"html.parser\")"
   ]
  },
  {
   "cell_type": "code",
   "execution_count": null,
   "id": "f9c1384f",
   "metadata": {},
   "outputs": [],
   "source": [
    "def formatter(string):\n",
    "    formatted = bytes(string, 'ascii').decode('unicode-escape')\n",
    "    # for Python 2\n",
    "    # formatted = string.decode('unicode-escape')\n",
    "    return formatted"
   ]
  },
  {
   "cell_type": "code",
   "execution_count": null,
   "id": "900f6742",
   "metadata": {
    "scrolled": true
   },
   "outputs": [],
   "source": [
    "print(soup.prettify(formatter = formatter))"
   ]
  },
  {
   "cell_type": "markdown",
   "id": "f41a10a7",
   "metadata": {},
   "source": [
    "There are a lot of exchange market like bitfitnex, kraken, ftx-us, binance, etc. For this I will go with binance."
   ]
  },
  {
   "cell_type": "code",
   "execution_count": null,
   "id": "4cd28e7f",
   "metadata": {},
   "outputs": [],
   "source": [
    "#scrape the data by creating a function\n",
    "def get_crypto_price(symbol, exchange='binance', after='2018-09-01'):\n",
    "    url = 'https://api.cryptowat.ch/markets/{exchange}/{symbol}usd/ohlc'.format(\n",
    "        symbol=symbol, exchange=exchange)\n",
    "    resp = requests.get(url, params={\n",
    "        'periods': '7200',\n",
    "        'after': str(int(pd.Timestamp(after).timestamp()))\n",
    "    })\n",
    "#     resp.raise_for_status()\n",
    "    data = resp.json()\n",
    "    df = pd.DataFrame(data['result']['7200'], columns=[\n",
    "        'CloseTime', 'OpenPrice', 'HighPrice', 'LowPrice', 'ClosePrice', 'Volume', 'NA'\n",
    "    ])\n",
    "    df['CloseTime'] = pd.to_datetime(df['CloseTime'], unit='s')\n",
    "    df.set_index('CloseTime', inplace=True)\n",
    "    return df"
   ]
  },
  {
   "cell_type": "code",
   "execution_count": null,
   "id": "2771e9b1",
   "metadata": {},
   "outputs": [],
   "source": [
    "#pull data from crypto for btc and eth\n",
    "btc = get_crypto_price('btc', 'bitstamp')\n",
    "eth = get_crypto_price('eth', 'bitstamp')"
   ]
  },
  {
   "cell_type": "code",
   "execution_count": null,
   "id": "9ae3113a",
   "metadata": {},
   "outputs": [],
   "source": [
    "#pull others for comparison\n",
    "ada = get_crypto_price('ada', 'bitstamp')\n",
    "xrp = get_crypto_price('xrp', 'bitstamp')\n",
    "usdt = get_crypto_price('usdt', 'bitstamp')\n",
    "matic = get_crypto_price('matic', 'bitstamp')\n",
    "usdc = get_crypto_price('usdc', 'bitstamp')\n",
    "shib = get_crypto_price('shib', 'bitstamp')\n",
    "ftm = get_crypto_price('ftm', 'bitstamp')\n",
    "uma = get_crypto_price('uma', 'bitstamp')"
   ]
  },
  {
   "cell_type": "markdown",
   "id": "2ba71d10",
   "metadata": {},
   "source": [
    "## Descriptive Statistics"
   ]
  },
  {
   "cell_type": "code",
   "execution_count": null,
   "id": "541eec66",
   "metadata": {
    "scrolled": false
   },
   "outputs": [],
   "source": [
    "btc.describe()"
   ]
  },
  {
   "cell_type": "code",
   "execution_count": null,
   "id": "c1677772",
   "metadata": {
    "scrolled": false
   },
   "outputs": [],
   "source": [
    "eth.describe()"
   ]
  },
  {
   "cell_type": "markdown",
   "id": "36a8ecbc",
   "metadata": {},
   "source": [
    "The dataset is between 1-6000 rows and 6 columns."
   ]
  },
  {
   "cell_type": "markdown",
   "id": "ec39866e",
   "metadata": {},
   "source": [
    "## Data Preprocessing and Cleaning"
   ]
  },
  {
   "cell_type": "code",
   "execution_count": null,
   "id": "c1c8a4e2",
   "metadata": {},
   "outputs": [],
   "source": [
    "#export to csv to make the index a column\n",
    "btc.to_csv('btc.csv', index=True)\n",
    "eth.to_csv('eth.csv', index=True)\n",
    "ada.to_csv('ada.csv', index=True)\n",
    "xrp.to_csv('xrp.csv', index=True)\n",
    "usdt.to_csv('usdt.csv', index=True)\n",
    "matic.to_csv('matic.csv', index=True)\n",
    "usdc.to_csv('usdc.csv', index=True)\n",
    "shib.to_csv('shib.csv', index=True)\n",
    "ftm.to_csv('ftm.csv', index=True)\n",
    "uma.to_csv('uma.csv', index=True)"
   ]
  },
  {
   "cell_type": "code",
   "execution_count": null,
   "id": "9d64b1e2",
   "metadata": {},
   "outputs": [],
   "source": [
    "#import\n",
    "df_btc = pd.read_csv('btc.csv')\n",
    "df_eth = pd.read_csv('eth.csv')\n",
    "df_ada = pd.read_csv('ada.csv')\n",
    "df_xrp = pd.read_csv('xrp.csv')\n",
    "df_usdt = pd.read_csv('usdt.csv')\n",
    "df_matic = pd.read_csv('matic.csv')\n",
    "df_usdc = pd.read_csv('usdc.csv')\n",
    "df_shib = pd.read_csv('shib.csv')\n",
    "df_ftm = pd.read_csv('ftm.csv')\n",
    "df_uma = pd.read_csv('uma.csv')"
   ]
  },
  {
   "cell_type": "code",
   "execution_count": null,
   "id": "e1d2d853",
   "metadata": {},
   "outputs": [],
   "source": [
    "#assign new column\n",
    "df_btc['Symbol'] = \"BTC\"\n",
    "df_eth['Symbol'] = \"ETH\"\n",
    "df_ada['Symbol'] = \"ADA\"\n",
    "df_xrp['Symbol'] = \"XRP\"\n",
    "df_usdt['Symbol'] = \"USDT\"\n",
    "df_matic['Symbol'] = \"MATIC\"\n",
    "df_usdc['Symbol'] = \"USDC\"\n",
    "df_shib['Symbol'] = \"SHIB\"\n",
    "df_ftm['Symbol'] = \"FTM\"\n",
    "df_uma['Symbol'] = \"UMA\""
   ]
  },
  {
   "cell_type": "code",
   "execution_count": null,
   "id": "99651ae4",
   "metadata": {},
   "outputs": [],
   "source": [
    "#join the dataframe for data comparison later\n",
    "coins = pd.concat([df_btc, df_eth, df_ada, df_xrp, df_usdt, df_matic, df_usdc, df_shib, df_ftm, df_uma], axis=0)\n",
    "coins.head()"
   ]
  },
  {
   "cell_type": "code",
   "execution_count": null,
   "id": "2b2894bb",
   "metadata": {},
   "outputs": [],
   "source": [
    "#check null values\n",
    "sns.heatmap(coins.isnull(), yticklabels = False, cbar = False, cmap = 'viridis')"
   ]
  },
  {
   "cell_type": "markdown",
   "id": "3e361d8a",
   "metadata": {},
   "source": [
    "Here we see that there are no missing values in the data set"
   ]
  },
  {
   "cell_type": "code",
   "execution_count": null,
   "id": "a04e759e",
   "metadata": {},
   "outputs": [],
   "source": [
    "coins.info()"
   ]
  },
  {
   "cell_type": "code",
   "execution_count": null,
   "id": "3c3b5d2f",
   "metadata": {
    "scrolled": true
   },
   "outputs": [],
   "source": [
    "coins.duplicated()"
   ]
  },
  {
   "cell_type": "code",
   "execution_count": null,
   "id": "79c79716",
   "metadata": {},
   "outputs": [],
   "source": [
    "#convert the CloseTime column to datetime format\n",
    "coins['CloseTime']= pd.to_datetime(coins['CloseTime'])\n",
    " \n",
    "# Check the format of 'Date' column\n",
    "coins.info()\n",
    "coins.head()"
   ]
  },
  {
   "cell_type": "code",
   "execution_count": null,
   "id": "7f68725d",
   "metadata": {},
   "outputs": [],
   "source": [
    "#extract year and month into separate column\n",
    "coins['Year'] = pd.to_datetime(coins['CloseTime']).dt.year\n",
    "coins['Month'] = pd.to_datetime(coins['CloseTime']).dt.month"
   ]
  },
  {
   "cell_type": "code",
   "execution_count": null,
   "id": "57b1ab58",
   "metadata": {},
   "outputs": [],
   "source": [
    "coins.info()"
   ]
  },
  {
   "cell_type": "code",
   "execution_count": null,
   "id": "921771b7",
   "metadata": {},
   "outputs": [],
   "source": [
    "coins.head()"
   ]
  },
  {
   "cell_type": "markdown",
   "id": "7afcbc63",
   "metadata": {},
   "source": [
    "## EDA"
   ]
  },
  {
   "cell_type": "code",
   "execution_count": null,
   "id": "5d0792d4",
   "metadata": {},
   "outputs": [],
   "source": [
    "import matplotlib.dates as mdates\n",
    "import matplotlib.ticker as mtick"
   ]
  },
  {
   "cell_type": "code",
   "execution_count": null,
   "id": "213ff9e8",
   "metadata": {},
   "outputs": [],
   "source": [
    "#use a barchart to view the coin performance\n",
    "#create a bar chart using Seaborn\n",
    "sns.set_style(\"whitegrid\")\n",
    "bar,ax = plt.subplots(figsize=(10,10))\n",
    "ax = sns.barplot(x='ClosePrice', y='Symbol', data=coins, ci=None, color='grey',orient='h')\n",
    "ax.set_title(\"Crypto Prices in USD\", fontsize=25)\n",
    "ax.set(xscale=\"log\")#set scale to view others\n",
    "ax.set_xlabel (\"Crypto\", fontsize=20)\n",
    "ax.set_ylabel (None, fontsize=20)\n",
    "ax.tick_params(axis='x', labelsize=15)\n",
    "ax.tick_params(axis='y', labelsize=15)\n",
    "plt.savefig(\"cryptoprice.svg\")\n"
   ]
  },
  {
   "cell_type": "code",
   "execution_count": null,
   "id": "44098fd5",
   "metadata": {},
   "outputs": [],
   "source": [
    "#check mean performance of all\n",
    "df=coins.groupby('Symbol').agg({'ClosePrice':np.mean,'OpenPrice':np.mean,'HighPrice':np.mean,'LowPrice':np.mean}).reset_index()\n",
    "fig = px.line(df, x='Symbol', y=['ClosePrice','HighPrice','LowPrice','OpenPrice'])\n",
    "fig.update_layout(template='plotly_dark',\n",
    "    yaxis_title='Price',\n",
    "    title='Mean OHLC Prices of crypto currencies',\n",
    "    hovermode=\"x\",\n",
    "    title_x=0.5\n",
    ")\n",
    "fig.update_yaxes( # the y-axis is in dollars\n",
    "    tickprefix=\"$\", showgrid=True\n",
    ")\n",
    "fig.show()"
   ]
  },
  {
   "cell_type": "code",
   "execution_count": null,
   "id": "da20e473",
   "metadata": {
    "scrolled": true
   },
   "outputs": [],
   "source": [
    "df.head()"
   ]
  },
  {
   "cell_type": "markdown",
   "id": "16c93b1a",
   "metadata": {},
   "source": [
    "# Analyzing bitcoin prices for 2020"
   ]
  },
  {
   "cell_type": "code",
   "execution_count": null,
   "id": "a3d6cfac",
   "metadata": {},
   "outputs": [],
   "source": [
    "df_2020 = coins[coins.Year == 2020]\n",
    "df_2020_btc = df_2020[df_2020.Symbol == 'BTC']\n",
    "df_2020_btc.head()"
   ]
  },
  {
   "cell_type": "code",
   "execution_count": null,
   "id": "a25e8116",
   "metadata": {},
   "outputs": [],
   "source": [
    "import plotly.graph_objects as go"
   ]
  },
  {
   "cell_type": "code",
   "execution_count": null,
   "id": "8915ee45",
   "metadata": {},
   "outputs": [],
   "source": [
    "#check growth for 2020\n",
    "fig = go.Figure(data=go.Ohlc(x=df_2020_btc['CloseTime'],\n",
    "                    open=df_2020_btc['OpenPrice'],\n",
    "                    high=df_2020_btc['HighPrice'],\n",
    "                    low=df_2020_btc['LowPrice'],\n",
    "                    close=df_2020_btc['ClosePrice']))\n",
    "\n",
    "fig.update_layout(template='plotly_dark',\n",
    "        title='Bitcoin performance in 2020',\n",
    "        xaxis_title=\"Date\",\n",
    "        yaxis_title='Price',title_x=0.5,\n",
    "        )\n",
    "fig.update_yaxes( # the y-axis is in dollars\n",
    "        tickprefix=\"$\", showgrid=False\n",
    "    )\n",
    "\n",
    "fig.update_xaxes(\n",
    "         showgrid=True\n",
    "    )\n"
   ]
  },
  {
   "cell_type": "markdown",
   "id": "b3ad73c5",
   "metadata": {},
   "source": [
    "Here we see an increase from less than 15,000 USD to about 30,000 USD from October to December 2020."
   ]
  },
  {
   "cell_type": "code",
   "execution_count": null,
   "id": "50f88e49",
   "metadata": {},
   "outputs": [],
   "source": [
    "#mean price\n",
    "round(df_2020_btc['ClosePrice'].mean())"
   ]
  },
  {
   "cell_type": "code",
   "execution_count": null,
   "id": "c1a36e5f",
   "metadata": {},
   "outputs": [],
   "source": [
    "#median price\n",
    "round(df_2020_btc['ClosePrice'].median())"
   ]
  },
  {
   "cell_type": "code",
   "execution_count": null,
   "id": "2079a67b",
   "metadata": {},
   "outputs": [],
   "source": [
    "#lowest price\n",
    "round(df_2020_btc['ClosePrice'].min())"
   ]
  },
  {
   "cell_type": "code",
   "execution_count": null,
   "id": "09b6a86d",
   "metadata": {},
   "outputs": [],
   "source": [
    "#highest price\n",
    "round(df_2020_btc['ClosePrice'].max())"
   ]
  },
  {
   "cell_type": "code",
   "execution_count": null,
   "id": "ebbb0454",
   "metadata": {},
   "outputs": [],
   "source": [
    "#extract for october to calculate the growth rate from october to december\n",
    "df_2020_btc_oct = df_2020_btc[df_2020_btc.Month == 10]"
   ]
  },
  {
   "cell_type": "code",
   "execution_count": null,
   "id": "39bcf185",
   "metadata": {
    "scrolled": true
   },
   "outputs": [],
   "source": [
    "round(((df_2020_btc['ClosePrice'].median()-df_2020_btc_oct['ClosePrice'].median())/df_2020_btc_oct['ClosePrice'].median())*100,2)"
   ]
  },
  {
   "cell_type": "markdown",
   "id": "98a03757",
   "metadata": {},
   "source": [
    "From October 2020 to December 2020, Bitcoin had a mean price of USD 18,065, median price of USD 18,110, low price of USD 11,430, highest price of USD 29,178 and a growth rate of 38.91%. "
   ]
  },
  {
   "cell_type": "markdown",
   "id": "37728759",
   "metadata": {},
   "source": [
    "# Analysing Bitcoin Prices for 2021"
   ]
  },
  {
   "cell_type": "code",
   "execution_count": null,
   "id": "8bf49bed",
   "metadata": {},
   "outputs": [],
   "source": [
    "df_2021 = coins[coins.Year == 2021]\n",
    "df_2021_btc = df_2021[df_2021.Symbol == 'BTC']\n",
    "df_2021_btc.head()"
   ]
  },
  {
   "cell_type": "code",
   "execution_count": null,
   "id": "d08b5ae2",
   "metadata": {},
   "outputs": [],
   "source": [
    "#check growth for 2021\n",
    "fig = go.Figure(data=go.Ohlc(x=df_2021_btc['CloseTime'],\n",
    "                    open=df_2021_btc['OpenPrice'],\n",
    "                    high=df_2021_btc['HighPrice'],\n",
    "                    low=df_2021_btc['LowPrice'],\n",
    "                    close=df_2021_btc['ClosePrice']))\n",
    "\n",
    "fig.update_layout(template='plotly_dark',\n",
    "        title='Bitcoin performance in 2021',\n",
    "        xaxis_title=\"Date\",\n",
    "        yaxis_title='Price',title_x=0.5,\n",
    "        )\n",
    "fig.update_yaxes( # the y-axis is in dollars\n",
    "        tickprefix=\"$\", showgrid=False\n",
    "    )\n",
    "\n",
    "fig.update_xaxes(\n",
    "         showgrid=True\n",
    "    )\n"
   ]
  },
  {
   "cell_type": "markdown",
   "id": "6718f653",
   "metadata": {},
   "source": [
    "Here bitcoin price fluctuates between 30,000 USD to almost 70,000 USD. From January 2021 to April 2021, there was a steady climb to about 65,000 USD. From May 2021 to July 2021, there was a drop to 30,000 USD. From August 2021 to September 2021, it increased to 50,000 USD and increased to almost 70,000 USD from October to November 2021. It dropped down to 48,000 USD and ranges between 48,000 USD - 40,000 USD in December 2021."
   ]
  },
  {
   "cell_type": "code",
   "execution_count": null,
   "id": "91638a92",
   "metadata": {},
   "outputs": [],
   "source": [
    "#mean price\n",
    "round(df_2021_btc['ClosePrice'].mean())"
   ]
  },
  {
   "cell_type": "code",
   "execution_count": null,
   "id": "77064098",
   "metadata": {},
   "outputs": [],
   "source": [
    "#median price\n",
    "round(df_2021_btc['ClosePrice'].median())"
   ]
  },
  {
   "cell_type": "code",
   "execution_count": null,
   "id": "4aa479b8",
   "metadata": {},
   "outputs": [],
   "source": [
    "#lowest price\n",
    "round(df_2021_btc['ClosePrice'].min())"
   ]
  },
  {
   "cell_type": "code",
   "execution_count": null,
   "id": "a558bf61",
   "metadata": {},
   "outputs": [],
   "source": [
    "#highest price\n",
    "round(df_2021_btc['ClosePrice'].max())"
   ]
  },
  {
   "cell_type": "code",
   "execution_count": null,
   "id": "b5e944d2",
   "metadata": {},
   "outputs": [],
   "source": [
    "#extract for january to calculate the growth rate from january to december\n",
    "df_2021_btc_jan = df_2021_btc[df_2021_btc.Month == 1]"
   ]
  },
  {
   "cell_type": "code",
   "execution_count": null,
   "id": "0381d882",
   "metadata": {
    "scrolled": true
   },
   "outputs": [],
   "source": [
    "round(((df_2021_btc['ClosePrice'].median()-df_2021_btc_jan['ClosePrice'].median())/df_2021_btc_jan['ClosePrice'].median())*100,2)"
   ]
  },
  {
   "cell_type": "markdown",
   "id": "f253a881",
   "metadata": {},
   "source": [
    "From January 2021 to December 2021, Bitcoin had a mean price of 47,387 USD, median price of 47,943 USD, low price of 28,993 USD, highest price of 68,627 USD and a growth rate of 40.03%. "
   ]
  },
  {
   "cell_type": "markdown",
   "id": "05d43d9b",
   "metadata": {},
   "source": [
    "# Analyzing bitcoin prices for 2022"
   ]
  },
  {
   "cell_type": "code",
   "execution_count": null,
   "id": "35a8fd49",
   "metadata": {},
   "outputs": [],
   "source": [
    "df_2022 = coins[coins.Year == 2022]\n",
    "df_2022_btc = df_2022[df_2022.Symbol == 'BTC']\n",
    "df_2022_btc.head()"
   ]
  },
  {
   "cell_type": "code",
   "execution_count": null,
   "id": "c657ce40",
   "metadata": {},
   "outputs": [],
   "source": [
    "#check growth for 2021\n",
    "fig = go.Figure(data=go.Ohlc(x=df_2022_btc['CloseTime'],\n",
    "                    open=df_2022_btc['OpenPrice'],\n",
    "                    high=df_2022_btc['HighPrice'],\n",
    "                    low=df_2022_btc['LowPrice'],\n",
    "                    close=df_2022_btc['ClosePrice']))\n",
    "\n",
    "fig.update_layout(template='plotly_dark',\n",
    "        title='Bitcoin performance in 2022',\n",
    "        xaxis_title=\"Date\",\n",
    "        yaxis_title='Price',title_x=0.5,\n",
    "        )\n",
    "fig.update_yaxes( # the y-axis is in dollars\n",
    "        tickprefix=\"$\", showgrid=False\n",
    "    )\n",
    "\n",
    "fig.update_xaxes(\n",
    "         showgrid=True\n",
    "    )\n"
   ]
  },
  {
   "cell_type": "markdown",
   "id": "20e578ac",
   "metadata": {},
   "source": [
    "Here bitcoin price fluctuates between 45,000 USD to 35,000 USD from January 2022 to March 2022. There is either a steady decrease or a steady increase."
   ]
  },
  {
   "cell_type": "code",
   "execution_count": null,
   "id": "a225b1ad",
   "metadata": {},
   "outputs": [],
   "source": [
    "#mean price\n",
    "round(df_2022_btc['ClosePrice'].mean())"
   ]
  },
  {
   "cell_type": "code",
   "execution_count": null,
   "id": "93ce8bfa",
   "metadata": {},
   "outputs": [],
   "source": [
    "#median price\n",
    "round(df_2022_btc['ClosePrice'].median())"
   ]
  },
  {
   "cell_type": "code",
   "execution_count": null,
   "id": "b52e7824",
   "metadata": {},
   "outputs": [],
   "source": [
    "#lowest price\n",
    "round(df_2022_btc['ClosePrice'].min())"
   ]
  },
  {
   "cell_type": "code",
   "execution_count": null,
   "id": "4b9ce32a",
   "metadata": {},
   "outputs": [],
   "source": [
    "#highest price\n",
    "round(df_2022_btc['ClosePrice'].max())"
   ]
  },
  {
   "cell_type": "code",
   "execution_count": null,
   "id": "c970a552",
   "metadata": {},
   "outputs": [],
   "source": [
    "#extract for january to calculate the growth rate from january to december\n",
    "df_2022_btc_jan = df_2022_btc[df_2022_btc.Month == 1]"
   ]
  },
  {
   "cell_type": "code",
   "execution_count": null,
   "id": "9f619c15",
   "metadata": {
    "scrolled": true
   },
   "outputs": [],
   "source": [
    "round(((df_2022_btc['ClosePrice'].median()-df_2022_btc_jan['ClosePrice'].median())/df_2022_btc_jan['ClosePrice'].median())*100,2)"
   ]
  },
  {
   "cell_type": "markdown",
   "id": "096e110b",
   "metadata": {},
   "source": [
    "From January 2022 to present, Bitcoin has a mean price of 40,973 USD, median price of 41,729 USD, low price of 33,321 USD, highest price of 47,777 USD and a growth rate of -0.47%. "
   ]
  },
  {
   "cell_type": "markdown",
   "id": "82c164df",
   "metadata": {},
   "source": [
    "# Analyzing bitcoin prices from 2020 - present"
   ]
  },
  {
   "cell_type": "code",
   "execution_count": null,
   "id": "8e2712c3",
   "metadata": {},
   "outputs": [],
   "source": [
    "df_all_btc = coins[coins.Symbol == 'BTC']\n",
    "df_all_btc.head()"
   ]
  },
  {
   "cell_type": "code",
   "execution_count": null,
   "id": "385cb7ce",
   "metadata": {},
   "outputs": [],
   "source": [
    "#check growth\n",
    "fig = go.Figure(data=go.Ohlc(x=df_all_btc['CloseTime'],\n",
    "                    open=df_all_btc['OpenPrice'],\n",
    "                    high=df_all_btc['HighPrice'],\n",
    "                    low=df_all_btc['LowPrice'],\n",
    "                    close=df_all_btc['ClosePrice']))\n",
    "\n",
    "fig.update_layout(template='plotly_dark',\n",
    "        title='Bitcoin performance from 2020 - present',\n",
    "        xaxis_title=\"Date\",\n",
    "        yaxis_title='Price',title_x=0.5,\n",
    "        )\n",
    "fig.update_yaxes( # the y-axis is in dollars\n",
    "        tickprefix=\"$\", showgrid=False\n",
    "    )\n",
    "\n",
    "fig.update_xaxes(\n",
    "         showgrid=True\n",
    "    )"
   ]
  },
  {
   "cell_type": "markdown",
   "id": "e74be620",
   "metadata": {},
   "source": [
    "From October 2020 to present, Bitcoin prices ranged from 10,000 USD to up to 70,000 USD with a steady increase or steady decrease."
   ]
  },
  {
   "cell_type": "code",
   "execution_count": null,
   "id": "e089f2d0",
   "metadata": {},
   "outputs": [],
   "source": [
    "#mean price\n",
    "round(df_all_btc['ClosePrice'].mean())"
   ]
  },
  {
   "cell_type": "code",
   "execution_count": null,
   "id": "ae163dac",
   "metadata": {},
   "outputs": [],
   "source": [
    "#median price\n",
    "round(df_all_btc['ClosePrice'].median())"
   ]
  },
  {
   "cell_type": "code",
   "execution_count": null,
   "id": "43de1fda",
   "metadata": {},
   "outputs": [],
   "source": [
    "#lowest price\n",
    "round(df_all_btc['ClosePrice'].min())"
   ]
  },
  {
   "cell_type": "code",
   "execution_count": null,
   "id": "f85e9406",
   "metadata": {},
   "outputs": [],
   "source": [
    "#highest price\n",
    "round(df_all_btc['ClosePrice'].max())"
   ]
  },
  {
   "cell_type": "code",
   "execution_count": null,
   "id": "eefb9c69",
   "metadata": {},
   "outputs": [],
   "source": [
    "#use extracted data for october to calculate the growth rate from October 2020 to present\n",
    "df_2020_btc = df_all_btc[df_all_btc.Year == 2020]"
   ]
  },
  {
   "cell_type": "code",
   "execution_count": null,
   "id": "8b1c1796",
   "metadata": {
    "scrolled": true
   },
   "outputs": [],
   "source": [
    "#use extracted data for october to calculate the growth rate from October 2020 to present\n",
    "round(((df_all_btc['ClosePrice'].median()-df_2020_btc_oct['ClosePrice'].median())/df_2020_btc_oct['ClosePrice'].median())*100,2)"
   ]
  },
  {
   "cell_type": "markdown",
   "id": "6c557d8a",
   "metadata": {},
   "source": [
    "From October 2020 to present, Bitcoin has a mean price of 42,246 USD, median price of 43,514 USD, low price of 11,430 USD, highest price of 68,627 USD and a growth rate of 233.76%. "
   ]
  },
  {
   "cell_type": "markdown",
   "id": "d1737f99",
   "metadata": {},
   "source": [
    "# Analyzing ethereum prices for 2020"
   ]
  },
  {
   "cell_type": "code",
   "execution_count": null,
   "id": "bb34e403",
   "metadata": {},
   "outputs": [],
   "source": [
    "df_2020 = coins[coins.Year == 2020]\n",
    "df_2020_eth = df_2020[df_2020.Symbol == 'ETH']\n",
    "df_2020_eth.head()"
   ]
  },
  {
   "cell_type": "code",
   "execution_count": null,
   "id": "22bbef69",
   "metadata": {},
   "outputs": [],
   "source": [
    "#check growth for 2020\n",
    "fig = go.Figure(data=go.Ohlc(x=df_2020_eth['CloseTime'],\n",
    "                    open=df_2020_eth['OpenPrice'],\n",
    "                    high=df_2020_eth['HighPrice'],\n",
    "                    low=df_2020_eth['LowPrice'],\n",
    "                    close=df_2020_eth['ClosePrice']))\n",
    "\n",
    "fig.update_layout(template='plotly_dark',\n",
    "        title='Ethereum performance in 2020',\n",
    "        xaxis_title=\"Date\",\n",
    "        yaxis_title='Price',title_x=0.5,\n",
    "        )\n",
    "fig.update_yaxes( # the y-axis is in dollars\n",
    "        tickprefix=\"$\", showgrid=False\n",
    "    )\n",
    "\n",
    "fig.update_xaxes(\n",
    "         showgrid=True\n",
    "    )\n"
   ]
  },
  {
   "cell_type": "markdown",
   "id": "fd715a71",
   "metadata": {},
   "source": [
    "Here we see an increase from less than 400 USD to about 700 USD from October to December 2020."
   ]
  },
  {
   "cell_type": "code",
   "execution_count": null,
   "id": "342815e2",
   "metadata": {},
   "outputs": [],
   "source": [
    "#mean price\n",
    "round(df_2020_eth['ClosePrice'].mean())"
   ]
  },
  {
   "cell_type": "code",
   "execution_count": null,
   "id": "1e6e0e27",
   "metadata": {},
   "outputs": [],
   "source": [
    "#median price\n",
    "round(df_2020_eth['ClosePrice'].median())"
   ]
  },
  {
   "cell_type": "code",
   "execution_count": null,
   "id": "c1e15402",
   "metadata": {},
   "outputs": [],
   "source": [
    "#lowest price\n",
    "round(df_2020_eth['ClosePrice'].min())"
   ]
  },
  {
   "cell_type": "code",
   "execution_count": null,
   "id": "4728284a",
   "metadata": {},
   "outputs": [],
   "source": [
    "#highest price\n",
    "round(df_2020_eth['ClosePrice'].max())"
   ]
  },
  {
   "cell_type": "code",
   "execution_count": null,
   "id": "2b01d549",
   "metadata": {},
   "outputs": [],
   "source": [
    "#extract for october to calculate the growth rate from october to december\n",
    "df_2020_eth_oct = df_2020_eth[df_2020_eth.Month == 10]"
   ]
  },
  {
   "cell_type": "code",
   "execution_count": null,
   "id": "d2f1131f",
   "metadata": {
    "scrolled": true
   },
   "outputs": [],
   "source": [
    "round(((df_2020_eth['ClosePrice'].median()-df_2020_eth_oct['ClosePrice'].median())/df_2020_eth_oct['ClosePrice'].median())*100,2)"
   ]
  },
  {
   "cell_type": "markdown",
   "id": "14ca8cb4",
   "metadata": {},
   "source": [
    "From October 2020 to December 2020, Ethereum had a mean price of USD 523, median price of USD 538, low price of USD 368, highest price of USD 753 and a growth rate of 37.25%. "
   ]
  },
  {
   "cell_type": "markdown",
   "id": "716cd4ed",
   "metadata": {},
   "source": [
    "# Analysing Ethereum Prices for 2021"
   ]
  },
  {
   "cell_type": "code",
   "execution_count": null,
   "id": "11853201",
   "metadata": {},
   "outputs": [],
   "source": [
    "df_2021 = coins[coins.Year == 2021]\n",
    "df_2021_eth = df_2021[df_2021.Symbol == 'ETH']\n",
    "df_2021_eth.head()"
   ]
  },
  {
   "cell_type": "code",
   "execution_count": null,
   "id": "7007529f",
   "metadata": {},
   "outputs": [],
   "source": [
    "#check growth for 2021\n",
    "fig = go.Figure(data=go.Ohlc(x=df_2021_eth['CloseTime'],\n",
    "                    open=df_2021_eth['OpenPrice'],\n",
    "                    high=df_2021_eth['HighPrice'],\n",
    "                    low=df_2021_eth['LowPrice'],\n",
    "                    close=df_2021_eth['ClosePrice']))\n",
    "\n",
    "fig.update_layout(template='plotly_dark',\n",
    "        title='Ethereum performance in 2021',\n",
    "        xaxis_title=\"Date\",\n",
    "        yaxis_title='Price',title_x=0.5,\n",
    "        )\n",
    "fig.update_yaxes( # the y-axis is in dollars\n",
    "        tickprefix=\"$\", showgrid=False\n",
    "    )\n",
    "\n",
    "fig.update_xaxes(\n",
    "         showgrid=True\n",
    "    )\n"
   ]
  },
  {
   "cell_type": "markdown",
   "id": "477a489a",
   "metadata": {},
   "source": [
    "Here ethereum prices fluctuate between 1,000 USD to almost 5,000 USD. From January 2021 to May 2021, there was a steady climb to about 4,000 USD. From May 2021 to July 2021, there was a drop to 1,800 USD. From August 2021 to September 2021, it increased to 4,000 USD and increased to almost 5,000 USD in November 2021. It dropped down to 4,000 USD in December 2021."
   ]
  },
  {
   "cell_type": "code",
   "execution_count": null,
   "id": "fc54a151",
   "metadata": {},
   "outputs": [],
   "source": [
    "#mean price\n",
    "round(df_2021_eth['ClosePrice'].mean())"
   ]
  },
  {
   "cell_type": "code",
   "execution_count": null,
   "id": "e33cb91c",
   "metadata": {},
   "outputs": [],
   "source": [
    "#median price\n",
    "round(df_2021_eth['ClosePrice'].median())"
   ]
  },
  {
   "cell_type": "code",
   "execution_count": null,
   "id": "93ac1235",
   "metadata": {},
   "outputs": [],
   "source": [
    "#lowest price\n",
    "round(df_2021_eth['ClosePrice'].min())"
   ]
  },
  {
   "cell_type": "code",
   "execution_count": null,
   "id": "d5030922",
   "metadata": {},
   "outputs": [],
   "source": [
    "#highest price\n",
    "round(df_2021_eth['ClosePrice'].max())"
   ]
  },
  {
   "cell_type": "code",
   "execution_count": null,
   "id": "efceaacb",
   "metadata": {},
   "outputs": [],
   "source": [
    "#extract for january to calculate the growth rate from january to december\n",
    "df_2021_eth_jan = df_2021_eth[df_2021_eth.Month == 1]"
   ]
  },
  {
   "cell_type": "code",
   "execution_count": null,
   "id": "a559e453",
   "metadata": {
    "scrolled": true
   },
   "outputs": [],
   "source": [
    "round(((df_2021_eth['ClosePrice'].median()-df_2021_eth_jan['ClosePrice'].median())/df_2021_eth_jan['ClosePrice'].median())*100,2)"
   ]
  },
  {
   "cell_type": "markdown",
   "id": "c46089d7",
   "metadata": {},
   "source": [
    "From January 2021 to December 2021, Ethereum had a mean price of 2,772 USD, median price of 2,615 USD, low price of 727 USD, highest price of 4849 USD and a growth rate of 112.83%. "
   ]
  },
  {
   "cell_type": "markdown",
   "id": "0183409c",
   "metadata": {},
   "source": [
    "# Analyzing ethereum prices for 2022"
   ]
  },
  {
   "cell_type": "code",
   "execution_count": null,
   "id": "c9dcccb2",
   "metadata": {},
   "outputs": [],
   "source": [
    "df_2022 = coins[coins.Year == 2022]\n",
    "df_2022_eth = df_2022[df_2022.Symbol == 'ETH']\n",
    "df_2022_eth.head()"
   ]
  },
  {
   "cell_type": "code",
   "execution_count": null,
   "id": "deb80787",
   "metadata": {},
   "outputs": [],
   "source": [
    "#check growth for 2021\n",
    "fig = go.Figure(data=go.Ohlc(x=df_2022_eth['CloseTime'],\n",
    "                    open=df_2022_eth['OpenPrice'],\n",
    "                    high=df_2022_eth['HighPrice'],\n",
    "                    low=df_2022_eth['LowPrice'],\n",
    "                    close=df_2022_eth['ClosePrice']))\n",
    "\n",
    "fig.update_layout(template='plotly_dark',\n",
    "        title='Ethereum performance in 2022',\n",
    "        xaxis_title=\"Date\",\n",
    "        yaxis_title='Price',title_x=0.5,\n",
    "        )\n",
    "fig.update_yaxes( # the y-axis is in dollars\n",
    "        tickprefix=\"$\", showgrid=False\n",
    "    )\n",
    "\n",
    "fig.update_xaxes(\n",
    "         showgrid=True\n",
    "    )\n"
   ]
  },
  {
   "cell_type": "markdown",
   "id": "92910b49",
   "metadata": {},
   "source": [
    "Here ethereum prices fluctuate between 3,500 USD to 2,500 USD from January 2022 to present. There is either a steady decrease or a steady increase."
   ]
  },
  {
   "cell_type": "code",
   "execution_count": null,
   "id": "09ce6a5b",
   "metadata": {},
   "outputs": [],
   "source": [
    "#mean price\n",
    "round(df_2022_eth['ClosePrice'].mean())"
   ]
  },
  {
   "cell_type": "code",
   "execution_count": null,
   "id": "91312e81",
   "metadata": {},
   "outputs": [],
   "source": [
    "#median price\n",
    "round(df_2022_eth['ClosePrice'].median())"
   ]
  },
  {
   "cell_type": "code",
   "execution_count": null,
   "id": "0c4e5c9c",
   "metadata": {},
   "outputs": [],
   "source": [
    "#lowest price\n",
    "round(df_2022_eth['ClosePrice'].min())"
   ]
  },
  {
   "cell_type": "code",
   "execution_count": null,
   "id": "4dbd750b",
   "metadata": {},
   "outputs": [],
   "source": [
    "#highest price\n",
    "round(df_2022_eth['ClosePrice'].max())"
   ]
  },
  {
   "cell_type": "code",
   "execution_count": null,
   "id": "0eeaad7e",
   "metadata": {},
   "outputs": [],
   "source": [
    "#extract for january to calculate the growth rate from january to december\n",
    "df_2022_eth_jan = df_2022_eth[df_2022_eth.Month == 1]"
   ]
  },
  {
   "cell_type": "code",
   "execution_count": null,
   "id": "648de18b",
   "metadata": {
    "scrolled": true
   },
   "outputs": [],
   "source": [
    "round(((df_2022_eth['ClosePrice'].median()-df_2022_eth_jan['ClosePrice'].median())/df_2022_eth_jan['ClosePrice'].median())*100,2)"
   ]
  },
  {
   "cell_type": "markdown",
   "id": "220ab403",
   "metadata": {},
   "source": [
    "From January 2022 to present, Ethereum has a mean price of 2,967 USD, median price of 2,960 USD, low price of 2,184 USD, highest price of 3,869 USD and a growth rate of -6.22%. "
   ]
  },
  {
   "cell_type": "markdown",
   "id": "a57bb052",
   "metadata": {},
   "source": [
    "# Analyzing ethereum prices from 2020 - present"
   ]
  },
  {
   "cell_type": "code",
   "execution_count": null,
   "id": "37a88229",
   "metadata": {},
   "outputs": [],
   "source": [
    "df_all_eth = coins[coins.Symbol == 'ETH']\n",
    "df_all_eth.head()"
   ]
  },
  {
   "cell_type": "code",
   "execution_count": null,
   "id": "9c815dd5",
   "metadata": {},
   "outputs": [],
   "source": [
    "#check growth\n",
    "fig = go.Figure(data=go.Ohlc(x=df_all_eth['CloseTime'],\n",
    "                    open=df_all_eth['OpenPrice'],\n",
    "                    high=df_all_eth['HighPrice'],\n",
    "                    low=df_all_eth['LowPrice'],\n",
    "                    close=df_all_eth['ClosePrice']))\n",
    "\n",
    "fig.update_layout(template='plotly_dark',\n",
    "        title='Ethereum performance from 2020 - present',\n",
    "        xaxis_title=\"Date\",\n",
    "        yaxis_title='Price',title_x=0.5,\n",
    "        )\n",
    "fig.update_yaxes( # the y-axis is in dollars\n",
    "        tickprefix=\"$\", showgrid=False\n",
    "    )\n",
    "\n",
    "fig.update_xaxes(\n",
    "         showgrid=True\n",
    "    )"
   ]
  },
  {
   "cell_type": "markdown",
   "id": "bef8f1f4",
   "metadata": {},
   "source": [
    "From October 2020 to present, Ethereum prices ranged from 1,000 USD to up to 5,000 USD with a steady increase or steady decrease."
   ]
  },
  {
   "cell_type": "code",
   "execution_count": null,
   "id": "cb762b23",
   "metadata": {},
   "outputs": [],
   "source": [
    "#mean price\n",
    "round(df_all_eth['ClosePrice'].mean())"
   ]
  },
  {
   "cell_type": "code",
   "execution_count": null,
   "id": "6b7da4f9",
   "metadata": {},
   "outputs": [],
   "source": [
    "#median price\n",
    "round(df_all_eth['ClosePrice'].median())"
   ]
  },
  {
   "cell_type": "code",
   "execution_count": null,
   "id": "8b324326",
   "metadata": {},
   "outputs": [],
   "source": [
    "#lowest price\n",
    "round(df_all_eth['ClosePrice'].min())"
   ]
  },
  {
   "cell_type": "code",
   "execution_count": null,
   "id": "7bde88df",
   "metadata": {},
   "outputs": [],
   "source": [
    "#highest price\n",
    "round(df_all_eth['ClosePrice'].max())"
   ]
  },
  {
   "cell_type": "code",
   "execution_count": null,
   "id": "9b162009",
   "metadata": {
    "scrolled": true
   },
   "outputs": [],
   "source": [
    "#use extracted data for october to calculate the growth rate from October 2020 to present\n",
    "round(((df_all_eth['ClosePrice'].median()-df_2020_eth_oct['ClosePrice'].median())/df_2020_eth_oct['ClosePrice'].median())*100,2)"
   ]
  },
  {
   "cell_type": "markdown",
   "id": "72f41d1c",
   "metadata": {},
   "source": [
    "From October 2020 to present, Ethereum has a mean price of 2,460 USD, median price of 2,480 USD, low price of 368 USD, highest price of 4,849 USD and a growth rate of 532.65%. "
   ]
  },
  {
   "cell_type": "markdown",
   "id": "72c3a7f6",
   "metadata": {},
   "source": [
    "# Volume of Trade"
   ]
  },
  {
   "cell_type": "code",
   "execution_count": null,
   "id": "84ba168f",
   "metadata": {},
   "outputs": [],
   "source": [
    "#check volume for bitcoin\n",
    "# creating trace1\n",
    "trace1 =go.Scatter(\n",
    "                    x = df_2020_btc.ClosePrice,\n",
    "                    y = df_2020_btc.Volume,\n",
    "                    mode = \"markers\",\n",
    "                    name = \"2020\",\n",
    "                    marker = dict(color = 'rgba(255, 128, 255, 0.8)'),\n",
    "                    text= df_2020_btc.CloseTime)\n",
    "# creating trace2\n",
    "trace2 =go.Scatter(\n",
    "                    x = df_2021_btc.ClosePrice,\n",
    "                    y = df_2021_btc.Volume,\n",
    "                    mode = \"markers\",\n",
    "                    name = \"2021\",\n",
    "                    marker = dict(color = 'rgba(255, 128, 2, 0.8)'),\n",
    "                    text= df_2021_btc.CloseTime)\n",
    "# creating trace3\n",
    "trace3 =go.Scatter(\n",
    "                    x = df_2022_btc.ClosePrice,\n",
    "                    y = df_2022_btc.Volume,\n",
    "                    mode = \"markers\",\n",
    "                    name = \"2022\",\n",
    "                    marker = dict(color = 'rgba(0, 255, 200, 0.8)'),\n",
    "                    text= df_2022_btc.CloseTime)\n",
    "data = [trace1, trace2, trace3]\n",
    "layout = dict(template='plotly_dark', title = 'Volume of Bitcoin Trade in 2020, 2021 and 2022',\n",
    "              xaxis= dict(title= 'ClosePrice',ticklen= 5,zeroline= False),\n",
    "              yaxis= dict(title= 'Volume',ticklen= 5,zeroline= False)\n",
    "             )\n",
    "fig = dict(data = data, layout = layout)\n",
    "iplot(fig)"
   ]
  },
  {
   "cell_type": "markdown",
   "id": "27149b60",
   "metadata": {},
   "source": [
    "The volume of bitcoin trade from 2020 to present ranges from 0-8,000 with a daily trade of about 2,000"
   ]
  },
  {
   "cell_type": "code",
   "execution_count": null,
   "id": "8dcc11e0",
   "metadata": {},
   "outputs": [],
   "source": [
    "#check volume for ethereum\n",
    "# creating trace1\n",
    "trace1 =go.Scatter(\n",
    "                    x = df_2020_eth.ClosePrice,\n",
    "                    y = df_2020_eth.Volume,\n",
    "                    mode = \"markers\",\n",
    "                    name = \"2020\",\n",
    "                    marker = dict(color = 'rgba(255, 128, 255, 0.8)'),\n",
    "                    text= df_2020_eth.CloseTime)\n",
    "# creating trace2\n",
    "trace2 =go.Scatter(\n",
    "                    x = df_2021_eth.ClosePrice,\n",
    "                    y = df_2021_eth.Volume,\n",
    "                    mode = \"markers\",\n",
    "                    name = \"2021\",\n",
    "                    marker = dict(color = 'rgba(255, 128, 2, 0.8)'),\n",
    "                    text= df_2021_eth.CloseTime)\n",
    "# creating trace3\n",
    "trace3 =go.Scatter(\n",
    "                    x = df_2022_eth.ClosePrice,\n",
    "                    y = df_2022_eth.Volume,\n",
    "                    mode = \"markers\",\n",
    "                    name = \"2022\",\n",
    "                    marker = dict(color = 'rgba(0, 255, 200, 0.8)'),\n",
    "                    text= df_2022_eth.CloseTime)\n",
    "data = [trace1, trace2, trace3]\n",
    "layout = dict(template='plotly_dark', title = 'Volume of Ethereum Trade in 2020, 2021 and 2022',\n",
    "              xaxis= dict(title= 'ClosePrice',ticklen= 5,zeroline= False),\n",
    "              yaxis= dict(title= 'Volume',ticklen= 5,zeroline= False)\n",
    "             )\n",
    "fig = dict(data = data, layout = layout)\n",
    "iplot(fig)"
   ]
  },
  {
   "cell_type": "markdown",
   "id": "ecd1ee8c",
   "metadata": {},
   "source": [
    "The volume of ethereum trade from 2020 to present ranges from 0-70k with a daily trade of 0-10k"
   ]
  },
  {
   "cell_type": "markdown",
   "id": "3692f95b",
   "metadata": {},
   "source": [
    "# Conclusion"
   ]
  },
  {
   "cell_type": "markdown",
   "id": "4b308275",
   "metadata": {},
   "source": [
    "Regardless of whether the price is high or low, Bitcoin and Ethereum are the biggest cryptocurrencies at the moment known to always make a comeback. It might be hard for a novice trader who probably wants to start their trading journey this year or in the future. With the data presented above, it is safe to make a bet on these two and be patient, especially with Ethereum with a reported growth rate of 532.65%."
   ]
  }
 ],
 "metadata": {
  "kernelspec": {
   "display_name": "Python 3",
   "language": "python",
   "name": "python3"
  },
  "language_info": {
   "codemirror_mode": {
    "name": "ipython",
    "version": 3
   },
   "file_extension": ".py",
   "mimetype": "text/x-python",
   "name": "python",
   "nbconvert_exporter": "python",
   "pygments_lexer": "ipython3",
   "version": "3.8.8"
  }
 },
 "nbformat": 4,
 "nbformat_minor": 5
}
